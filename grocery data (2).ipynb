{
 "cells": [
  {
   "cell_type": "markdown",
   "id": "33526976-795a-4249-931b-d735ff9e90d0",
   "metadata": {},
   "source": [
    "this is first"
   ]
  },
  {
   "cell_type": "code",
   "execution_count": 2,
   "id": "dcebd025-4753-4df9-99bf-7f34f2049e9d",
   "metadata": {},
   "outputs": [
    {
     "data": {
      "text/plain": [
       "18"
      ]
     },
     "execution_count": 2,
     "metadata": {},
     "output_type": "execute_result"
    }
   ],
   "source": [
    "9+9"
   ]
  },
  {
   "cell_type": "code",
   "execution_count": 4,
   "id": "ff1b8837-f659-4e61-8106-ae063882f0d4",
   "metadata": {},
   "outputs": [
    {
     "name": "stdout",
     "output_type": "stream",
     "text": [
      "hello\n"
     ]
    }
   ],
   "source": [
    "print('hello')"
   ]
  },
  {
   "cell_type": "code",
   "execution_count": 3,
   "id": "705649de-a639-4c90-bc90-a2e5e1836d8f",
   "metadata": {},
   "outputs": [],
   "source": [
    "import pandas as pd"
   ]
  },
  {
   "cell_type": "code",
   "execution_count": 7,
   "id": "81d16cd0-013a-4114-9bf3-a7dc8d486917",
   "metadata": {},
   "outputs": [
    {
     "name": "stdout",
     "output_type": "stream",
     "text": [
      "pd\n"
     ]
    }
   ],
   "source": [
    "print(\"pd\")\n"
   ]
  },
  {
   "cell_type": "code",
   "execution_count": 5,
   "id": "02482fec-8501-42ec-80b3-8ce4f87a837f",
   "metadata": {},
   "outputs": [],
   "source": [
    "df = pd.read_csv(r\"C:\\Users\\dilee\\OneDrive\\Documents\\Data Analyst Project for grocery dataset\\week1 excel sheet\\raw grocery data.csv\")"
   ]
  },
  {
   "cell_type": "code",
   "execution_count": null,
   "id": "b114f3b2-8590-487f-b965-cc2b64ca799e",
   "metadata": {},
   "outputs": [],
   "source": [
    "df1 = pd.read_csv("
   ]
  },
  {
   "cell_type": "code",
   "execution_count": 7,
   "id": "1fec75d3-1c6f-42f1-8c1a-0256e15ed605",
   "metadata": {},
   "outputs": [
    {
     "data": {
      "text/html": [
       "<div>\n",
       "<style scoped>\n",
       "    .dataframe tbody tr th:only-of-type {\n",
       "        vertical-align: middle;\n",
       "    }\n",
       "\n",
       "    .dataframe tbody tr th {\n",
       "        vertical-align: top;\n",
       "    }\n",
       "\n",
       "    .dataframe thead th {\n",
       "        text-align: right;\n",
       "    }\n",
       "</style>\n",
       "<table border=\"1\" class=\"dataframe\">\n",
       "  <thead>\n",
       "    <tr style=\"text-align: right;\">\n",
       "      <th></th>\n",
       "      <th>Member_number</th>\n",
       "      <th>Date</th>\n",
       "      <th>itemDescription</th>\n",
       "    </tr>\n",
       "  </thead>\n",
       "  <tbody>\n",
       "    <tr>\n",
       "      <th>0</th>\n",
       "      <td>1808</td>\n",
       "      <td>7/21/2015</td>\n",
       "      <td>tropical fruit</td>\n",
       "    </tr>\n",
       "    <tr>\n",
       "      <th>1</th>\n",
       "      <td>2552</td>\n",
       "      <td>1/5/2015</td>\n",
       "      <td>whole milk</td>\n",
       "    </tr>\n",
       "    <tr>\n",
       "      <th>2</th>\n",
       "      <td>2300</td>\n",
       "      <td>9/19/2015</td>\n",
       "      <td>pip fruit</td>\n",
       "    </tr>\n",
       "    <tr>\n",
       "      <th>3</th>\n",
       "      <td>1187</td>\n",
       "      <td>12/12/2015</td>\n",
       "      <td>other vegetables</td>\n",
       "    </tr>\n",
       "    <tr>\n",
       "      <th>4</th>\n",
       "      <td>3037</td>\n",
       "      <td>2/1/2015</td>\n",
       "      <td>whole milk</td>\n",
       "    </tr>\n",
       "  </tbody>\n",
       "</table>\n",
       "</div>"
      ],
      "text/plain": [
       "   Member_number        Date   itemDescription\n",
       "0           1808   7/21/2015    tropical fruit\n",
       "1           2552    1/5/2015        whole milk\n",
       "2           2300   9/19/2015         pip fruit\n",
       "3           1187  12/12/2015  other vegetables\n",
       "4           3037    2/1/2015        whole milk"
      ]
     },
     "execution_count": 7,
     "metadata": {},
     "output_type": "execute_result"
    }
   ],
   "source": [
    "df.head()"
   ]
  },
  {
   "cell_type": "code",
   "execution_count": 15,
   "id": "789c1395-6ff2-4813-a199-0a9d247c3c14",
   "metadata": {},
   "outputs": [
    {
     "data": {
      "text/html": [
       "<div>\n",
       "<style scoped>\n",
       "    .dataframe tbody tr th:only-of-type {\n",
       "        vertical-align: middle;\n",
       "    }\n",
       "\n",
       "    .dataframe tbody tr th {\n",
       "        vertical-align: top;\n",
       "    }\n",
       "\n",
       "    .dataframe thead th {\n",
       "        text-align: right;\n",
       "    }\n",
       "</style>\n",
       "<table border=\"1\" class=\"dataframe\">\n",
       "  <thead>\n",
       "    <tr style=\"text-align: right;\">\n",
       "      <th></th>\n",
       "      <th>Member_number</th>\n",
       "      <th>Date</th>\n",
       "      <th>itemDescription</th>\n",
       "    </tr>\n",
       "  </thead>\n",
       "  <tbody>\n",
       "    <tr>\n",
       "      <th>38760</th>\n",
       "      <td>4471</td>\n",
       "      <td>10/8/2014</td>\n",
       "      <td>sliced cheese</td>\n",
       "    </tr>\n",
       "    <tr>\n",
       "      <th>38761</th>\n",
       "      <td>2022</td>\n",
       "      <td>2/23/2014</td>\n",
       "      <td>candy</td>\n",
       "    </tr>\n",
       "    <tr>\n",
       "      <th>38762</th>\n",
       "      <td>1097</td>\n",
       "      <td>4/16/2014</td>\n",
       "      <td>cake bar</td>\n",
       "    </tr>\n",
       "    <tr>\n",
       "      <th>38763</th>\n",
       "      <td>1510</td>\n",
       "      <td>12/3/2014</td>\n",
       "      <td>fruit/vegetable juice</td>\n",
       "    </tr>\n",
       "    <tr>\n",
       "      <th>38764</th>\n",
       "      <td>1521</td>\n",
       "      <td>12/26/2014</td>\n",
       "      <td>cat food</td>\n",
       "    </tr>\n",
       "  </tbody>\n",
       "</table>\n",
       "</div>"
      ],
      "text/plain": [
       "       Member_number        Date        itemDescription\n",
       "38760           4471   10/8/2014          sliced cheese\n",
       "38761           2022   2/23/2014                  candy\n",
       "38762           1097   4/16/2014               cake bar\n",
       "38763           1510   12/3/2014  fruit/vegetable juice\n",
       "38764           1521  12/26/2014               cat food"
      ]
     },
     "execution_count": 15,
     "metadata": {},
     "output_type": "execute_result"
    }
   ],
   "source": [
    "df.tail()"
   ]
  },
  {
   "cell_type": "code",
   "execution_count": 24,
   "id": "97f49457-8fa5-4916-8152-af7ad83bb726",
   "metadata": {},
   "outputs": [
    {
     "name": "stdout",
     "output_type": "stream",
     "text": [
      "<class 'pandas.core.frame.DataFrame'>\n",
      "RangeIndex: 38765 entries, 0 to 38764\n",
      "Data columns (total 3 columns):\n",
      " #   Column           Non-Null Count  Dtype \n",
      "---  ------           --------------  ----- \n",
      " 0   Member_number    38765 non-null  int64 \n",
      " 1   Date             38765 non-null  object\n",
      " 2   itemDescription  38765 non-null  object\n",
      "dtypes: int64(1), object(2)\n",
      "memory usage: 908.7+ KB\n"
     ]
    }
   ],
   "source": [
    "df.info()"
   ]
  },
  {
   "cell_type": "code",
   "execution_count": 32,
   "id": "10163b1b-45a3-43b2-948f-7bd139021df9",
   "metadata": {},
   "outputs": [
    {
     "ename": "KeyError",
     "evalue": "'member_number'",
     "output_type": "error",
     "traceback": [
      "\u001b[1;31m---------------------------------------------------------------------------\u001b[0m",
      "\u001b[1;31mKeyError\u001b[0m                                  Traceback (most recent call last)",
      "File \u001b[1;32mC:\\ProgramData\\anaconda3\\Lib\\site-packages\\pandas\\core\\indexes\\base.py:3805\u001b[0m, in \u001b[0;36mIndex.get_loc\u001b[1;34m(self, key)\u001b[0m\n\u001b[0;32m   3804\u001b[0m \u001b[38;5;28;01mtry\u001b[39;00m:\n\u001b[1;32m-> 3805\u001b[0m     \u001b[38;5;28;01mreturn\u001b[39;00m \u001b[38;5;28mself\u001b[39m\u001b[38;5;241m.\u001b[39m_engine\u001b[38;5;241m.\u001b[39mget_loc(casted_key)\n\u001b[0;32m   3806\u001b[0m \u001b[38;5;28;01mexcept\u001b[39;00m \u001b[38;5;167;01mKeyError\u001b[39;00m \u001b[38;5;28;01mas\u001b[39;00m err:\n",
      "File \u001b[1;32mindex.pyx:167\u001b[0m, in \u001b[0;36mpandas._libs.index.IndexEngine.get_loc\u001b[1;34m()\u001b[0m\n",
      "File \u001b[1;32mindex.pyx:196\u001b[0m, in \u001b[0;36mpandas._libs.index.IndexEngine.get_loc\u001b[1;34m()\u001b[0m\n",
      "File \u001b[1;32mpandas\\\\_libs\\\\hashtable_class_helper.pxi:7081\u001b[0m, in \u001b[0;36mpandas._libs.hashtable.PyObjectHashTable.get_item\u001b[1;34m()\u001b[0m\n",
      "File \u001b[1;32mpandas\\\\_libs\\\\hashtable_class_helper.pxi:7089\u001b[0m, in \u001b[0;36mpandas._libs.hashtable.PyObjectHashTable.get_item\u001b[1;34m()\u001b[0m\n",
      "\u001b[1;31mKeyError\u001b[0m: 'member_number'",
      "\nThe above exception was the direct cause of the following exception:\n",
      "\u001b[1;31mKeyError\u001b[0m                                  Traceback (most recent call last)",
      "Cell \u001b[1;32mIn[32], line 1\u001b[0m\n\u001b[1;32m----> 1\u001b[0m null_members \u001b[38;5;241m=\u001b[39m df[df[\u001b[38;5;124m'\u001b[39m\u001b[38;5;124mmember_number\u001b[39m\u001b[38;5;124m'\u001b[39m]\u001b[38;5;241m.\u001b[39misnull()]\n",
      "File \u001b[1;32mC:\\ProgramData\\anaconda3\\Lib\\site-packages\\pandas\\core\\frame.py:4102\u001b[0m, in \u001b[0;36mDataFrame.__getitem__\u001b[1;34m(self, key)\u001b[0m\n\u001b[0;32m   4100\u001b[0m \u001b[38;5;28;01mif\u001b[39;00m \u001b[38;5;28mself\u001b[39m\u001b[38;5;241m.\u001b[39mcolumns\u001b[38;5;241m.\u001b[39mnlevels \u001b[38;5;241m>\u001b[39m \u001b[38;5;241m1\u001b[39m:\n\u001b[0;32m   4101\u001b[0m     \u001b[38;5;28;01mreturn\u001b[39;00m \u001b[38;5;28mself\u001b[39m\u001b[38;5;241m.\u001b[39m_getitem_multilevel(key)\n\u001b[1;32m-> 4102\u001b[0m indexer \u001b[38;5;241m=\u001b[39m \u001b[38;5;28mself\u001b[39m\u001b[38;5;241m.\u001b[39mcolumns\u001b[38;5;241m.\u001b[39mget_loc(key)\n\u001b[0;32m   4103\u001b[0m \u001b[38;5;28;01mif\u001b[39;00m is_integer(indexer):\n\u001b[0;32m   4104\u001b[0m     indexer \u001b[38;5;241m=\u001b[39m [indexer]\n",
      "File \u001b[1;32mC:\\ProgramData\\anaconda3\\Lib\\site-packages\\pandas\\core\\indexes\\base.py:3812\u001b[0m, in \u001b[0;36mIndex.get_loc\u001b[1;34m(self, key)\u001b[0m\n\u001b[0;32m   3807\u001b[0m     \u001b[38;5;28;01mif\u001b[39;00m \u001b[38;5;28misinstance\u001b[39m(casted_key, \u001b[38;5;28mslice\u001b[39m) \u001b[38;5;129;01mor\u001b[39;00m (\n\u001b[0;32m   3808\u001b[0m         \u001b[38;5;28misinstance\u001b[39m(casted_key, abc\u001b[38;5;241m.\u001b[39mIterable)\n\u001b[0;32m   3809\u001b[0m         \u001b[38;5;129;01mand\u001b[39;00m \u001b[38;5;28many\u001b[39m(\u001b[38;5;28misinstance\u001b[39m(x, \u001b[38;5;28mslice\u001b[39m) \u001b[38;5;28;01mfor\u001b[39;00m x \u001b[38;5;129;01min\u001b[39;00m casted_key)\n\u001b[0;32m   3810\u001b[0m     ):\n\u001b[0;32m   3811\u001b[0m         \u001b[38;5;28;01mraise\u001b[39;00m InvalidIndexError(key)\n\u001b[1;32m-> 3812\u001b[0m     \u001b[38;5;28;01mraise\u001b[39;00m \u001b[38;5;167;01mKeyError\u001b[39;00m(key) \u001b[38;5;28;01mfrom\u001b[39;00m \u001b[38;5;21;01merr\u001b[39;00m\n\u001b[0;32m   3813\u001b[0m \u001b[38;5;28;01mexcept\u001b[39;00m \u001b[38;5;167;01mTypeError\u001b[39;00m:\n\u001b[0;32m   3814\u001b[0m     \u001b[38;5;66;03m# If we have a listlike key, _check_indexing_error will raise\u001b[39;00m\n\u001b[0;32m   3815\u001b[0m     \u001b[38;5;66;03m#  InvalidIndexError. Otherwise we fall through and re-raise\u001b[39;00m\n\u001b[0;32m   3816\u001b[0m     \u001b[38;5;66;03m#  the TypeError.\u001b[39;00m\n\u001b[0;32m   3817\u001b[0m     \u001b[38;5;28mself\u001b[39m\u001b[38;5;241m.\u001b[39m_check_indexing_error(key)\n",
      "\u001b[1;31mKeyError\u001b[0m: 'member_number'"
     ]
    }
   ],
   "source": [
    "null_members = df[df['member_number'].isnull()]"
   ]
  },
  {
   "cell_type": "code",
   "execution_count": 17,
   "id": "d78cf324-c119-4ac4-928b-15731a6f9e9b",
   "metadata": {},
   "outputs": [
    {
     "name": "stdout",
     "output_type": "stream",
     "text": [
      "Index(['Member_number', 'Date', 'itemDescription'], dtype='object')\n"
     ]
    }
   ],
   "source": [
    "print(df.columns)"
   ]
  },
  {
   "cell_type": "code",
   "execution_count": 19,
   "id": "30dfb532-fa6e-4b35-84ca-351f8e00f399",
   "metadata": {},
   "outputs": [],
   "source": [
    "null_members = df[df['Member_number'].isnull()]"
   ]
  },
  {
   "cell_type": "code",
   "execution_count": 38,
   "id": "f6f14948-5c8a-49d6-9d7b-dd4b73b08cc8",
   "metadata": {},
   "outputs": [
    {
     "data": {
      "text/plain": [
       "0"
      ]
     },
     "execution_count": 38,
     "metadata": {},
     "output_type": "execute_result"
    }
   ],
   "source": [
    "df['Member_number'].isnull().sum()\n"
   ]
  },
  {
   "cell_type": "code",
   "execution_count": 40,
   "id": "7f55bee1-cedd-41ab-b9d2-da323b906dfe",
   "metadata": {},
   "outputs": [
    {
     "data": {
      "text/html": [
       "<div>\n",
       "<style scoped>\n",
       "    .dataframe tbody tr th:only-of-type {\n",
       "        vertical-align: middle;\n",
       "    }\n",
       "\n",
       "    .dataframe tbody tr th {\n",
       "        vertical-align: top;\n",
       "    }\n",
       "\n",
       "    .dataframe thead th {\n",
       "        text-align: right;\n",
       "    }\n",
       "</style>\n",
       "<table border=\"1\" class=\"dataframe\">\n",
       "  <thead>\n",
       "    <tr style=\"text-align: right;\">\n",
       "      <th></th>\n",
       "      <th>Member_number</th>\n",
       "      <th>Date</th>\n",
       "      <th>itemDescription</th>\n",
       "    </tr>\n",
       "  </thead>\n",
       "  <tbody>\n",
       "  </tbody>\n",
       "</table>\n",
       "</div>"
      ],
      "text/plain": [
       "Empty DataFrame\n",
       "Columns: [Member_number, Date, itemDescription]\n",
       "Index: []"
      ]
     },
     "execution_count": 40,
     "metadata": {},
     "output_type": "execute_result"
    }
   ],
   "source": [
    "df[df['Member_number'].isnull()]"
   ]
  },
  {
   "cell_type": "code",
   "execution_count": 42,
   "id": "10ba8442-4316-4dc1-90c3-8605d3ebc8b7",
   "metadata": {},
   "outputs": [
    {
     "data": {
      "text/plain": [
       "(38765, 3)"
      ]
     },
     "execution_count": 42,
     "metadata": {},
     "output_type": "execute_result"
    }
   ],
   "source": [
    "df.shape"
   ]
  },
  {
   "cell_type": "code",
   "execution_count": 21,
   "id": "54266f9c-e7ab-46a9-b98d-1b762237b5a3",
   "metadata": {},
   "outputs": [
    {
     "name": "stdout",
     "output_type": "stream",
     "text": [
      "       Member_number        Date        itemDescription\n",
      "0               1808   7/21/2015         tropical fruit\n",
      "1               2552    1/5/2015             whole milk\n",
      "2               2300   9/19/2015              pip fruit\n",
      "3               1187  12/12/2015       other vegetables\n",
      "4               3037    2/1/2015             whole milk\n",
      "...              ...         ...                    ...\n",
      "38760           4471   10/8/2014          sliced cheese\n",
      "38761           2022   2/23/2014                  candy\n",
      "38762           1097   4/16/2014               cake bar\n",
      "38763           1510   12/3/2014  fruit/vegetable juice\n",
      "38764           1521  12/26/2014               cat food\n",
      "\n",
      "[38765 rows x 3 columns]\n"
     ]
    }
   ],
   "source": [
    "print(df)"
   ]
  },
  {
   "cell_type": "code",
   "execution_count": 23,
   "id": "36237083-4a89-404c-94e2-a2075748e5e8",
   "metadata": {},
   "outputs": [
    {
     "name": "stdout",
     "output_type": "stream",
     "text": [
      "       Member_number        Date        itemDescription\n",
      "0               1808   7/21/2015         tropical fruit\n",
      "1               2552    1/5/2015             whole milk\n",
      "2               2300   9/19/2015              pip fruit\n",
      "3               1187  12/12/2015       other vegetables\n",
      "4               3037    2/1/2015             whole milk\n",
      "...              ...         ...                    ...\n",
      "38760           4471   10/8/2014          sliced cheese\n",
      "38761           2022   2/23/2014                  candy\n",
      "38762           1097   4/16/2014               cake bar\n",
      "38763           1510   12/3/2014  fruit/vegetable juice\n",
      "38764           1521  12/26/2014               cat food\n",
      "\n",
      "[38765 rows x 3 columns]\n"
     ]
    }
   ],
   "source": [
    "print(df)"
   ]
  },
  {
   "cell_type": "code",
   "execution_count": 50,
   "id": "322f99ed-e9bc-4278-9868-5e69dccb8630",
   "metadata": {},
   "outputs": [
    {
     "name": "stdout",
     "output_type": "stream",
     "text": [
      "       Member_number        Date        itemDescription\n",
      "0               1808  21-07-2015         tropical fruit\n",
      "1               2552  05-01-2015             whole milk\n",
      "2               2300  19-09-2015              pip fruit\n",
      "3               1187  12-12-2015       other vegetables\n",
      "4               3037  01-02-2015             whole milk\n",
      "...              ...         ...                    ...\n",
      "38760           4471  08-10-2014          sliced cheese\n",
      "38761           2022  23-02-2014                  candy\n",
      "38762           1097  16-04-2014               cake bar\n",
      "38763           1510  03-12-2014  fruit/vegetable juice\n",
      "38764           1521  26-12-2014               cat food\n",
      "\n",
      "[38765 rows x 3 columns]\n"
     ]
    }
   ],
   "source": [
    "pd.set_option('display.max_rows', 10)  # Show all rows\n",
    "pd.set_option('display.max_columns', 10)  # Show all columns\n",
    "print(df)"
   ]
  },
  {
   "cell_type": "code",
   "execution_count": 52,
   "id": "360ad552-7da7-4503-ace0-6bec2938b8f1",
   "metadata": {},
   "outputs": [
    {
     "ename": "ValueError",
     "evalue": "Must provide an even number of non-keyword arguments",
     "output_type": "error",
     "traceback": [
      "\u001b[1;31m---------------------------------------------------------------------------\u001b[0m",
      "\u001b[1;31mValueError\u001b[0m                                Traceback (most recent call last)",
      "Cell \u001b[1;32mIn[52], line 1\u001b[0m\n\u001b[1;32m----> 1\u001b[0m pd\u001b[38;5;241m.\u001b[39mset_option(\u001b[38;5;124m'\u001b[39m\u001b[38;5;124mdisplay.max_itemdescription\u001b[39m\u001b[38;5;124m'\u001b[39m)\n",
      "File \u001b[1;32mC:\\ProgramData\\anaconda3\\Lib\\site-packages\\pandas\\_config\\config.py:274\u001b[0m, in \u001b[0;36mCallableDynamicDoc.__call__\u001b[1;34m(self, *args, **kwds)\u001b[0m\n\u001b[0;32m    273\u001b[0m \u001b[38;5;28;01mdef\u001b[39;00m \u001b[38;5;21m__call__\u001b[39m(\u001b[38;5;28mself\u001b[39m, \u001b[38;5;241m*\u001b[39margs, \u001b[38;5;241m*\u001b[39m\u001b[38;5;241m*\u001b[39mkwds) \u001b[38;5;241m-\u001b[39m\u001b[38;5;241m>\u001b[39m T:\n\u001b[1;32m--> 274\u001b[0m     \u001b[38;5;28;01mreturn\u001b[39;00m \u001b[38;5;28mself\u001b[39m\u001b[38;5;241m.\u001b[39m\u001b[38;5;18m__func__\u001b[39m(\u001b[38;5;241m*\u001b[39margs, \u001b[38;5;241m*\u001b[39m\u001b[38;5;241m*\u001b[39mkwds)\n",
      "File \u001b[1;32mC:\\ProgramData\\anaconda3\\Lib\\site-packages\\pandas\\_config\\config.py:157\u001b[0m, in \u001b[0;36m_set_option\u001b[1;34m(*args, **kwargs)\u001b[0m\n\u001b[0;32m    155\u001b[0m nargs \u001b[38;5;241m=\u001b[39m \u001b[38;5;28mlen\u001b[39m(args)\n\u001b[0;32m    156\u001b[0m \u001b[38;5;28;01mif\u001b[39;00m \u001b[38;5;129;01mnot\u001b[39;00m nargs \u001b[38;5;129;01mor\u001b[39;00m nargs \u001b[38;5;241m%\u001b[39m \u001b[38;5;241m2\u001b[39m \u001b[38;5;241m!=\u001b[39m \u001b[38;5;241m0\u001b[39m:\n\u001b[1;32m--> 157\u001b[0m     \u001b[38;5;28;01mraise\u001b[39;00m \u001b[38;5;167;01mValueError\u001b[39;00m(\u001b[38;5;124m\"\u001b[39m\u001b[38;5;124mMust provide an even number of non-keyword arguments\u001b[39m\u001b[38;5;124m\"\u001b[39m)\n\u001b[0;32m    159\u001b[0m \u001b[38;5;66;03m# default to false\u001b[39;00m\n\u001b[0;32m    160\u001b[0m silent \u001b[38;5;241m=\u001b[39m kwargs\u001b[38;5;241m.\u001b[39mpop(\u001b[38;5;124m\"\u001b[39m\u001b[38;5;124msilent\u001b[39m\u001b[38;5;124m\"\u001b[39m, \u001b[38;5;28;01mFalse\u001b[39;00m)\n",
      "\u001b[1;31mValueError\u001b[0m: Must provide an even number of non-keyword arguments"
     ]
    }
   ],
   "source": [
    "pd.set_option('display.max_itemdescription')"
   ]
  },
  {
   "cell_type": "code",
   "execution_count": 54,
   "id": "6c524891-4ae8-4d9a-9c06-6aa635ce7366",
   "metadata": {},
   "outputs": [
    {
     "name": "stdout",
     "output_type": "stream",
     "text": [
      "itemdescription\n"
     ]
    }
   ],
   "source": [
    "print('itemdescription')"
   ]
  },
  {
   "cell_type": "code",
   "execution_count": 56,
   "id": "e3b80d85-042f-463a-bf8b-f9cd645d8b90",
   "metadata": {},
   "outputs": [
    {
     "ename": "KeyError",
     "evalue": "\"None of [Index(['itemdescription', 'purchase date'], dtype='object')] are in the [columns]\"",
     "output_type": "error",
     "traceback": [
      "\u001b[1;31m---------------------------------------------------------------------------\u001b[0m",
      "\u001b[1;31mKeyError\u001b[0m                                  Traceback (most recent call last)",
      "Cell \u001b[1;32mIn[56], line 1\u001b[0m\n\u001b[1;32m----> 1\u001b[0m selected_columns \u001b[38;5;241m=\u001b[39m df[[\u001b[38;5;124m'\u001b[39m\u001b[38;5;124mitemdescription\u001b[39m\u001b[38;5;124m'\u001b[39m, \u001b[38;5;124m'\u001b[39m\u001b[38;5;124mpurchase date\u001b[39m\u001b[38;5;124m'\u001b[39m]]\n\u001b[0;32m      2\u001b[0m \u001b[38;5;28mprint\u001b[39m(selected_columns)\n",
      "File \u001b[1;32mC:\\ProgramData\\anaconda3\\Lib\\site-packages\\pandas\\core\\frame.py:4108\u001b[0m, in \u001b[0;36mDataFrame.__getitem__\u001b[1;34m(self, key)\u001b[0m\n\u001b[0;32m   4106\u001b[0m     \u001b[38;5;28;01mif\u001b[39;00m is_iterator(key):\n\u001b[0;32m   4107\u001b[0m         key \u001b[38;5;241m=\u001b[39m \u001b[38;5;28mlist\u001b[39m(key)\n\u001b[1;32m-> 4108\u001b[0m     indexer \u001b[38;5;241m=\u001b[39m \u001b[38;5;28mself\u001b[39m\u001b[38;5;241m.\u001b[39mcolumns\u001b[38;5;241m.\u001b[39m_get_indexer_strict(key, \u001b[38;5;124m\"\u001b[39m\u001b[38;5;124mcolumns\u001b[39m\u001b[38;5;124m\"\u001b[39m)[\u001b[38;5;241m1\u001b[39m]\n\u001b[0;32m   4110\u001b[0m \u001b[38;5;66;03m# take() does not accept boolean indexers\u001b[39;00m\n\u001b[0;32m   4111\u001b[0m \u001b[38;5;28;01mif\u001b[39;00m \u001b[38;5;28mgetattr\u001b[39m(indexer, \u001b[38;5;124m\"\u001b[39m\u001b[38;5;124mdtype\u001b[39m\u001b[38;5;124m\"\u001b[39m, \u001b[38;5;28;01mNone\u001b[39;00m) \u001b[38;5;241m==\u001b[39m \u001b[38;5;28mbool\u001b[39m:\n",
      "File \u001b[1;32mC:\\ProgramData\\anaconda3\\Lib\\site-packages\\pandas\\core\\indexes\\base.py:6200\u001b[0m, in \u001b[0;36mIndex._get_indexer_strict\u001b[1;34m(self, key, axis_name)\u001b[0m\n\u001b[0;32m   6197\u001b[0m \u001b[38;5;28;01melse\u001b[39;00m:\n\u001b[0;32m   6198\u001b[0m     keyarr, indexer, new_indexer \u001b[38;5;241m=\u001b[39m \u001b[38;5;28mself\u001b[39m\u001b[38;5;241m.\u001b[39m_reindex_non_unique(keyarr)\n\u001b[1;32m-> 6200\u001b[0m \u001b[38;5;28mself\u001b[39m\u001b[38;5;241m.\u001b[39m_raise_if_missing(keyarr, indexer, axis_name)\n\u001b[0;32m   6202\u001b[0m keyarr \u001b[38;5;241m=\u001b[39m \u001b[38;5;28mself\u001b[39m\u001b[38;5;241m.\u001b[39mtake(indexer)\n\u001b[0;32m   6203\u001b[0m \u001b[38;5;28;01mif\u001b[39;00m \u001b[38;5;28misinstance\u001b[39m(key, Index):\n\u001b[0;32m   6204\u001b[0m     \u001b[38;5;66;03m# GH 42790 - Preserve name from an Index\u001b[39;00m\n",
      "File \u001b[1;32mC:\\ProgramData\\anaconda3\\Lib\\site-packages\\pandas\\core\\indexes\\base.py:6249\u001b[0m, in \u001b[0;36mIndex._raise_if_missing\u001b[1;34m(self, key, indexer, axis_name)\u001b[0m\n\u001b[0;32m   6247\u001b[0m \u001b[38;5;28;01mif\u001b[39;00m nmissing:\n\u001b[0;32m   6248\u001b[0m     \u001b[38;5;28;01mif\u001b[39;00m nmissing \u001b[38;5;241m==\u001b[39m \u001b[38;5;28mlen\u001b[39m(indexer):\n\u001b[1;32m-> 6249\u001b[0m         \u001b[38;5;28;01mraise\u001b[39;00m \u001b[38;5;167;01mKeyError\u001b[39;00m(\u001b[38;5;124mf\u001b[39m\u001b[38;5;124m\"\u001b[39m\u001b[38;5;124mNone of [\u001b[39m\u001b[38;5;132;01m{\u001b[39;00mkey\u001b[38;5;132;01m}\u001b[39;00m\u001b[38;5;124m] are in the [\u001b[39m\u001b[38;5;132;01m{\u001b[39;00maxis_name\u001b[38;5;132;01m}\u001b[39;00m\u001b[38;5;124m]\u001b[39m\u001b[38;5;124m\"\u001b[39m)\n\u001b[0;32m   6251\u001b[0m     not_found \u001b[38;5;241m=\u001b[39m \u001b[38;5;28mlist\u001b[39m(ensure_index(key)[missing_mask\u001b[38;5;241m.\u001b[39mnonzero()[\u001b[38;5;241m0\u001b[39m]]\u001b[38;5;241m.\u001b[39munique())\n\u001b[0;32m   6252\u001b[0m     \u001b[38;5;28;01mraise\u001b[39;00m \u001b[38;5;167;01mKeyError\u001b[39;00m(\u001b[38;5;124mf\u001b[39m\u001b[38;5;124m\"\u001b[39m\u001b[38;5;132;01m{\u001b[39;00mnot_found\u001b[38;5;132;01m}\u001b[39;00m\u001b[38;5;124m not in index\u001b[39m\u001b[38;5;124m\"\u001b[39m)\n",
      "\u001b[1;31mKeyError\u001b[0m: \"None of [Index(['itemdescription', 'purchase date'], dtype='object')] are in the [columns]\""
     ]
    }
   ],
   "source": [
    "selected_columns = df[['itemdescription', 'purchase date']]\n",
    "print(selected_columns)\n"
   ]
  },
  {
   "cell_type": "code",
   "execution_count": 67,
   "id": "eb8e4b54-af79-4826-b0e2-700fa31f7306",
   "metadata": {},
   "outputs": [
    {
     "name": "stdout",
     "output_type": "stream",
     "text": [
      "Most frequent itemDescription: whole milk\n"
     ]
    }
   ],
   "source": [
    "# Assuming 'itemdescription' is the column name\n",
    "most_frequent_item = df['itemDescription'].value_counts().idxmax()\n",
    "print(\"Most frequent itemDescription:\", most_frequent_item)\n"
   ]
  },
  {
   "cell_type": "code",
   "execution_count": 69,
   "id": "aa2652a8-7e1e-4068-a86d-a98f9e772335",
   "metadata": {},
   "outputs": [
    {
     "name": "stdout",
     "output_type": "stream",
     "text": [
      "Most frequent itemDescription: whole milk\n",
      "Frequency: 2502\n"
     ]
    }
   ],
   "source": [
    "# Get the most frequent itemdescription and its count\n",
    "item_counts = df['itemDescription'].value_counts()\n",
    "most_frequent_item = item_counts.idxmax()\n",
    "frequency = item_counts.max()\n",
    "print(\"Most frequent itemDescription:\", most_frequent_item)\n",
    "print(\"Frequency:\", frequency)\n"
   ]
  },
  {
   "cell_type": "code",
   "execution_count": null,
   "id": "b15952ec-27ec-4bf2-8854-975b9cb07b61",
   "metadata": {},
   "outputs": [],
   "source": []
  },
  {
   "cell_type": "code",
   "execution_count": 79,
   "id": "a00d7fa1-4b56-4026-a7c2-08a7052d420c",
   "metadata": {},
   "outputs": [
    {
     "name": "stdout",
     "output_type": "stream",
     "text": [
      "Most frequent Member_number: 3180\n"
     ]
    }
   ],
   "source": [
    "# Assuming 'itemdescription' is the column name\n",
    "most_frequent_item = df['Member_number'].value_counts().idxmax()\n",
    "print(\"Most frequent Member_number:\", most_frequent_item)\n"
   ]
  },
  {
   "cell_type": "code",
   "execution_count": 85,
   "id": "e204c7db-e883-4d17-9d6f-0cd68576a686",
   "metadata": {},
   "outputs": [
    {
     "name": "stdout",
     "output_type": "stream",
     "text": [
      "most frequent Date: 21-01-2015\n"
     ]
    }
   ],
   "source": [
    "most_frequent_item = df['Date'].value_counts().idxmax()\n",
    "print(\"most frequent Date:\",most_frequent_item)"
   ]
  },
  {
   "cell_type": "code",
   "execution_count": 87,
   "id": "60d17d82-5fbc-4fc4-8fc9-6e2f8493a899",
   "metadata": {},
   "outputs": [
    {
     "data": {
      "text/html": [
       "<div>\n",
       "<style scoped>\n",
       "    .dataframe tbody tr th:only-of-type {\n",
       "        vertical-align: middle;\n",
       "    }\n",
       "\n",
       "    .dataframe tbody tr th {\n",
       "        vertical-align: top;\n",
       "    }\n",
       "\n",
       "    .dataframe thead th {\n",
       "        text-align: right;\n",
       "    }\n",
       "</style>\n",
       "<table border=\"1\" class=\"dataframe\">\n",
       "  <thead>\n",
       "    <tr style=\"text-align: right;\">\n",
       "      <th></th>\n",
       "      <th>Member_number</th>\n",
       "      <th>Date</th>\n",
       "      <th>itemDescription</th>\n",
       "    </tr>\n",
       "  </thead>\n",
       "  <tbody>\n",
       "    <tr>\n",
       "      <th>38760</th>\n",
       "      <td>4471</td>\n",
       "      <td>08-10-2014</td>\n",
       "      <td>sliced cheese</td>\n",
       "    </tr>\n",
       "    <tr>\n",
       "      <th>38761</th>\n",
       "      <td>2022</td>\n",
       "      <td>23-02-2014</td>\n",
       "      <td>candy</td>\n",
       "    </tr>\n",
       "    <tr>\n",
       "      <th>38762</th>\n",
       "      <td>1097</td>\n",
       "      <td>16-04-2014</td>\n",
       "      <td>cake bar</td>\n",
       "    </tr>\n",
       "    <tr>\n",
       "      <th>38763</th>\n",
       "      <td>1510</td>\n",
       "      <td>03-12-2014</td>\n",
       "      <td>fruit/vegetable juice</td>\n",
       "    </tr>\n",
       "    <tr>\n",
       "      <th>38764</th>\n",
       "      <td>1521</td>\n",
       "      <td>26-12-2014</td>\n",
       "      <td>cat food</td>\n",
       "    </tr>\n",
       "  </tbody>\n",
       "</table>\n",
       "</div>"
      ],
      "text/plain": [
       "       Member_number        Date        itemDescription\n",
       "38760           4471  08-10-2014          sliced cheese\n",
       "38761           2022  23-02-2014                  candy\n",
       "38762           1097  16-04-2014               cake bar\n",
       "38763           1510  03-12-2014  fruit/vegetable juice\n",
       "38764           1521  26-12-2014               cat food"
      ]
     },
     "execution_count": 87,
     "metadata": {},
     "output_type": "execute_result"
    }
   ],
   "source": [
    "df.tail()"
   ]
  },
  {
   "cell_type": "code",
   "execution_count": 55,
   "id": "1049ea14-07ff-4777-97c8-31fc1063cda8",
   "metadata": {},
   "outputs": [],
   "source": [
    "df['Date'] = pd.to_datetime(df['Date'], dayfirst = True)"
   ]
  },
  {
   "cell_type": "code",
   "execution_count": 57,
   "id": "8680e056-c2b8-403e-9e42-730d3128a470",
   "metadata": {},
   "outputs": [
    {
     "data": {
      "text/html": [
       "<div>\n",
       "<style scoped>\n",
       "    .dataframe tbody tr th:only-of-type {\n",
       "        vertical-align: middle;\n",
       "    }\n",
       "\n",
       "    .dataframe tbody tr th {\n",
       "        vertical-align: top;\n",
       "    }\n",
       "\n",
       "    .dataframe thead th {\n",
       "        text-align: right;\n",
       "    }\n",
       "</style>\n",
       "<table border=\"1\" class=\"dataframe\">\n",
       "  <thead>\n",
       "    <tr style=\"text-align: right;\">\n",
       "      <th></th>\n",
       "      <th>Member_number</th>\n",
       "      <th>Date</th>\n",
       "      <th>itemDescription</th>\n",
       "    </tr>\n",
       "  </thead>\n",
       "  <tbody>\n",
       "    <tr>\n",
       "      <th>38760</th>\n",
       "      <td>4471</td>\n",
       "      <td>2014-10-08</td>\n",
       "      <td>sliced cheese</td>\n",
       "    </tr>\n",
       "    <tr>\n",
       "      <th>38761</th>\n",
       "      <td>2022</td>\n",
       "      <td>2014-02-23</td>\n",
       "      <td>candy</td>\n",
       "    </tr>\n",
       "    <tr>\n",
       "      <th>38762</th>\n",
       "      <td>1097</td>\n",
       "      <td>2014-04-16</td>\n",
       "      <td>cake bar</td>\n",
       "    </tr>\n",
       "    <tr>\n",
       "      <th>38763</th>\n",
       "      <td>1510</td>\n",
       "      <td>2014-12-03</td>\n",
       "      <td>fruit/vegetable juice</td>\n",
       "    </tr>\n",
       "    <tr>\n",
       "      <th>38764</th>\n",
       "      <td>1521</td>\n",
       "      <td>2014-12-26</td>\n",
       "      <td>cat food</td>\n",
       "    </tr>\n",
       "  </tbody>\n",
       "</table>\n",
       "</div>"
      ],
      "text/plain": [
       "       Member_number       Date        itemDescription\n",
       "38760           4471 2014-10-08          sliced cheese\n",
       "38761           2022 2014-02-23                  candy\n",
       "38762           1097 2014-04-16               cake bar\n",
       "38763           1510 2014-12-03  fruit/vegetable juice\n",
       "38764           1521 2014-12-26               cat food"
      ]
     },
     "execution_count": 57,
     "metadata": {},
     "output_type": "execute_result"
    }
   ],
   "source": [
    "df.tail()"
   ]
  },
  {
   "cell_type": "code",
   "execution_count": 25,
   "id": "2b78f2c1-87d4-4be4-9382-dd295e1a50d8",
   "metadata": {},
   "outputs": [
    {
     "ename": "AttributeError",
     "evalue": "Can only use .dt accessor with datetimelike values",
     "output_type": "error",
     "traceback": [
      "\u001b[1;31m---------------------------------------------------------------------------\u001b[0m",
      "\u001b[1;31mAttributeError\u001b[0m                            Traceback (most recent call last)",
      "Cell \u001b[1;32mIn[25], line 1\u001b[0m\n\u001b[1;32m----> 1\u001b[0m df[\u001b[38;5;124m'\u001b[39m\u001b[38;5;124mDay\u001b[39m\u001b[38;5;124m'\u001b[39m] \u001b[38;5;241m=\u001b[39m df[\u001b[38;5;124m'\u001b[39m\u001b[38;5;124mDate\u001b[39m\u001b[38;5;124m'\u001b[39m]\u001b[38;5;241m.\u001b[39mdt\u001b[38;5;241m.\u001b[39mday\n",
      "File \u001b[1;32mC:\\ProgramData\\anaconda3\\Lib\\site-packages\\pandas\\core\\generic.py:6299\u001b[0m, in \u001b[0;36mNDFrame.__getattr__\u001b[1;34m(self, name)\u001b[0m\n\u001b[0;32m   6292\u001b[0m \u001b[38;5;28;01mif\u001b[39;00m (\n\u001b[0;32m   6293\u001b[0m     name \u001b[38;5;129;01mnot\u001b[39;00m \u001b[38;5;129;01min\u001b[39;00m \u001b[38;5;28mself\u001b[39m\u001b[38;5;241m.\u001b[39m_internal_names_set\n\u001b[0;32m   6294\u001b[0m     \u001b[38;5;129;01mand\u001b[39;00m name \u001b[38;5;129;01mnot\u001b[39;00m \u001b[38;5;129;01min\u001b[39;00m \u001b[38;5;28mself\u001b[39m\u001b[38;5;241m.\u001b[39m_metadata\n\u001b[0;32m   6295\u001b[0m     \u001b[38;5;129;01mand\u001b[39;00m name \u001b[38;5;129;01mnot\u001b[39;00m \u001b[38;5;129;01min\u001b[39;00m \u001b[38;5;28mself\u001b[39m\u001b[38;5;241m.\u001b[39m_accessors\n\u001b[0;32m   6296\u001b[0m     \u001b[38;5;129;01mand\u001b[39;00m \u001b[38;5;28mself\u001b[39m\u001b[38;5;241m.\u001b[39m_info_axis\u001b[38;5;241m.\u001b[39m_can_hold_identifiers_and_holds_name(name)\n\u001b[0;32m   6297\u001b[0m ):\n\u001b[0;32m   6298\u001b[0m     \u001b[38;5;28;01mreturn\u001b[39;00m \u001b[38;5;28mself\u001b[39m[name]\n\u001b[1;32m-> 6299\u001b[0m \u001b[38;5;28;01mreturn\u001b[39;00m \u001b[38;5;28mobject\u001b[39m\u001b[38;5;241m.\u001b[39m\u001b[38;5;21m__getattribute__\u001b[39m(\u001b[38;5;28mself\u001b[39m, name)\n",
      "File \u001b[1;32mC:\\ProgramData\\anaconda3\\Lib\\site-packages\\pandas\\core\\accessor.py:224\u001b[0m, in \u001b[0;36mCachedAccessor.__get__\u001b[1;34m(self, obj, cls)\u001b[0m\n\u001b[0;32m    221\u001b[0m \u001b[38;5;28;01mif\u001b[39;00m obj \u001b[38;5;129;01mis\u001b[39;00m \u001b[38;5;28;01mNone\u001b[39;00m:\n\u001b[0;32m    222\u001b[0m     \u001b[38;5;66;03m# we're accessing the attribute of the class, i.e., Dataset.geo\u001b[39;00m\n\u001b[0;32m    223\u001b[0m     \u001b[38;5;28;01mreturn\u001b[39;00m \u001b[38;5;28mself\u001b[39m\u001b[38;5;241m.\u001b[39m_accessor\n\u001b[1;32m--> 224\u001b[0m accessor_obj \u001b[38;5;241m=\u001b[39m \u001b[38;5;28mself\u001b[39m\u001b[38;5;241m.\u001b[39m_accessor(obj)\n\u001b[0;32m    225\u001b[0m \u001b[38;5;66;03m# Replace the property with the accessor object. Inspired by:\u001b[39;00m\n\u001b[0;32m    226\u001b[0m \u001b[38;5;66;03m# https://www.pydanny.com/cached-property.html\u001b[39;00m\n\u001b[0;32m    227\u001b[0m \u001b[38;5;66;03m# We need to use object.__setattr__ because we overwrite __setattr__ on\u001b[39;00m\n\u001b[0;32m    228\u001b[0m \u001b[38;5;66;03m# NDFrame\u001b[39;00m\n\u001b[0;32m    229\u001b[0m \u001b[38;5;28mobject\u001b[39m\u001b[38;5;241m.\u001b[39m\u001b[38;5;21m__setattr__\u001b[39m(obj, \u001b[38;5;28mself\u001b[39m\u001b[38;5;241m.\u001b[39m_name, accessor_obj)\n",
      "File \u001b[1;32mC:\\ProgramData\\anaconda3\\Lib\\site-packages\\pandas\\core\\indexes\\accessors.py:643\u001b[0m, in \u001b[0;36mCombinedDatetimelikeProperties.__new__\u001b[1;34m(cls, data)\u001b[0m\n\u001b[0;32m    640\u001b[0m \u001b[38;5;28;01melif\u001b[39;00m \u001b[38;5;28misinstance\u001b[39m(data\u001b[38;5;241m.\u001b[39mdtype, PeriodDtype):\n\u001b[0;32m    641\u001b[0m     \u001b[38;5;28;01mreturn\u001b[39;00m PeriodProperties(data, orig)\n\u001b[1;32m--> 643\u001b[0m \u001b[38;5;28;01mraise\u001b[39;00m \u001b[38;5;167;01mAttributeError\u001b[39;00m(\u001b[38;5;124m\"\u001b[39m\u001b[38;5;124mCan only use .dt accessor with datetimelike values\u001b[39m\u001b[38;5;124m\"\u001b[39m)\n",
      "\u001b[1;31mAttributeError\u001b[0m: Can only use .dt accessor with datetimelike values"
     ]
    }
   ],
   "source": [
    "df['Day'] = df['Date'].dt.day"
   ]
  },
  {
   "cell_type": "code",
   "execution_count": 27,
   "id": "9b9936d2-3422-4915-976a-7b3f747f49a1",
   "metadata": {},
   "outputs": [
    {
     "name": "stdout",
     "output_type": "stream",
     "text": [
      "       Member_number        Date        itemDescription\n",
      "0               1808   7/21/2015         tropical fruit\n",
      "1               2552    1/5/2015             whole milk\n",
      "2               2300   9/19/2015              pip fruit\n",
      "3               1187  12/12/2015       other vegetables\n",
      "4               3037    2/1/2015             whole milk\n",
      "...              ...         ...                    ...\n",
      "38760           4471   10/8/2014          sliced cheese\n",
      "38761           2022   2/23/2014                  candy\n",
      "38762           1097   4/16/2014               cake bar\n",
      "38763           1510   12/3/2014  fruit/vegetable juice\n",
      "38764           1521  12/26/2014               cat food\n",
      "\n",
      "[38765 rows x 3 columns]\n"
     ]
    }
   ],
   "source": [
    "print(df)"
   ]
  },
  {
   "cell_type": "code",
   "execution_count": 29,
   "id": "2cb8f5e3-59f3-421f-ae3d-c5f79ee28b1c",
   "metadata": {},
   "outputs": [
    {
     "ename": "AttributeError",
     "evalue": "Can only use .dt accessor with datetimelike values",
     "output_type": "error",
     "traceback": [
      "\u001b[1;31m---------------------------------------------------------------------------\u001b[0m",
      "\u001b[1;31mAttributeError\u001b[0m                            Traceback (most recent call last)",
      "Cell \u001b[1;32mIn[29], line 1\u001b[0m\n\u001b[1;32m----> 1\u001b[0m df[\u001b[38;5;124m'\u001b[39m\u001b[38;5;124mmonth\u001b[39m\u001b[38;5;124m'\u001b[39m] \u001b[38;5;241m=\u001b[39m df[\u001b[38;5;124m'\u001b[39m\u001b[38;5;124mDate\u001b[39m\u001b[38;5;124m'\u001b[39m]\u001b[38;5;241m.\u001b[39mdt\u001b[38;5;241m.\u001b[39mmonth\n",
      "File \u001b[1;32mC:\\ProgramData\\anaconda3\\Lib\\site-packages\\pandas\\core\\generic.py:6299\u001b[0m, in \u001b[0;36mNDFrame.__getattr__\u001b[1;34m(self, name)\u001b[0m\n\u001b[0;32m   6292\u001b[0m \u001b[38;5;28;01mif\u001b[39;00m (\n\u001b[0;32m   6293\u001b[0m     name \u001b[38;5;129;01mnot\u001b[39;00m \u001b[38;5;129;01min\u001b[39;00m \u001b[38;5;28mself\u001b[39m\u001b[38;5;241m.\u001b[39m_internal_names_set\n\u001b[0;32m   6294\u001b[0m     \u001b[38;5;129;01mand\u001b[39;00m name \u001b[38;5;129;01mnot\u001b[39;00m \u001b[38;5;129;01min\u001b[39;00m \u001b[38;5;28mself\u001b[39m\u001b[38;5;241m.\u001b[39m_metadata\n\u001b[0;32m   6295\u001b[0m     \u001b[38;5;129;01mand\u001b[39;00m name \u001b[38;5;129;01mnot\u001b[39;00m \u001b[38;5;129;01min\u001b[39;00m \u001b[38;5;28mself\u001b[39m\u001b[38;5;241m.\u001b[39m_accessors\n\u001b[0;32m   6296\u001b[0m     \u001b[38;5;129;01mand\u001b[39;00m \u001b[38;5;28mself\u001b[39m\u001b[38;5;241m.\u001b[39m_info_axis\u001b[38;5;241m.\u001b[39m_can_hold_identifiers_and_holds_name(name)\n\u001b[0;32m   6297\u001b[0m ):\n\u001b[0;32m   6298\u001b[0m     \u001b[38;5;28;01mreturn\u001b[39;00m \u001b[38;5;28mself\u001b[39m[name]\n\u001b[1;32m-> 6299\u001b[0m \u001b[38;5;28;01mreturn\u001b[39;00m \u001b[38;5;28mobject\u001b[39m\u001b[38;5;241m.\u001b[39m\u001b[38;5;21m__getattribute__\u001b[39m(\u001b[38;5;28mself\u001b[39m, name)\n",
      "File \u001b[1;32mC:\\ProgramData\\anaconda3\\Lib\\site-packages\\pandas\\core\\accessor.py:224\u001b[0m, in \u001b[0;36mCachedAccessor.__get__\u001b[1;34m(self, obj, cls)\u001b[0m\n\u001b[0;32m    221\u001b[0m \u001b[38;5;28;01mif\u001b[39;00m obj \u001b[38;5;129;01mis\u001b[39;00m \u001b[38;5;28;01mNone\u001b[39;00m:\n\u001b[0;32m    222\u001b[0m     \u001b[38;5;66;03m# we're accessing the attribute of the class, i.e., Dataset.geo\u001b[39;00m\n\u001b[0;32m    223\u001b[0m     \u001b[38;5;28;01mreturn\u001b[39;00m \u001b[38;5;28mself\u001b[39m\u001b[38;5;241m.\u001b[39m_accessor\n\u001b[1;32m--> 224\u001b[0m accessor_obj \u001b[38;5;241m=\u001b[39m \u001b[38;5;28mself\u001b[39m\u001b[38;5;241m.\u001b[39m_accessor(obj)\n\u001b[0;32m    225\u001b[0m \u001b[38;5;66;03m# Replace the property with the accessor object. Inspired by:\u001b[39;00m\n\u001b[0;32m    226\u001b[0m \u001b[38;5;66;03m# https://www.pydanny.com/cached-property.html\u001b[39;00m\n\u001b[0;32m    227\u001b[0m \u001b[38;5;66;03m# We need to use object.__setattr__ because we overwrite __setattr__ on\u001b[39;00m\n\u001b[0;32m    228\u001b[0m \u001b[38;5;66;03m# NDFrame\u001b[39;00m\n\u001b[0;32m    229\u001b[0m \u001b[38;5;28mobject\u001b[39m\u001b[38;5;241m.\u001b[39m\u001b[38;5;21m__setattr__\u001b[39m(obj, \u001b[38;5;28mself\u001b[39m\u001b[38;5;241m.\u001b[39m_name, accessor_obj)\n",
      "File \u001b[1;32mC:\\ProgramData\\anaconda3\\Lib\\site-packages\\pandas\\core\\indexes\\accessors.py:643\u001b[0m, in \u001b[0;36mCombinedDatetimelikeProperties.__new__\u001b[1;34m(cls, data)\u001b[0m\n\u001b[0;32m    640\u001b[0m \u001b[38;5;28;01melif\u001b[39;00m \u001b[38;5;28misinstance\u001b[39m(data\u001b[38;5;241m.\u001b[39mdtype, PeriodDtype):\n\u001b[0;32m    641\u001b[0m     \u001b[38;5;28;01mreturn\u001b[39;00m PeriodProperties(data, orig)\n\u001b[1;32m--> 643\u001b[0m \u001b[38;5;28;01mraise\u001b[39;00m \u001b[38;5;167;01mAttributeError\u001b[39;00m(\u001b[38;5;124m\"\u001b[39m\u001b[38;5;124mCan only use .dt accessor with datetimelike values\u001b[39m\u001b[38;5;124m\"\u001b[39m)\n",
      "\u001b[1;31mAttributeError\u001b[0m: Can only use .dt accessor with datetimelike values"
     ]
    }
   ],
   "source": [
    "df['month'] = df['Date'].dt.month"
   ]
  },
  {
   "cell_type": "code",
   "execution_count": 103,
   "id": "c36b49bd-6edb-430b-9945-926e9dacdf65",
   "metadata": {},
   "outputs": [
    {
     "name": "stdout",
     "output_type": "stream",
     "text": [
      "       Member_number       Date        itemDescription  Day  month\n",
      "0               1808 2015-07-21         tropical fruit   21      7\n",
      "1               2552 2015-01-05             whole milk    5      1\n",
      "2               2300 2015-09-19              pip fruit   19      9\n",
      "3               1187 2015-12-12       other vegetables   12     12\n",
      "4               3037 2015-02-01             whole milk    1      2\n",
      "...              ...        ...                    ...  ...    ...\n",
      "38760           4471 2014-10-08          sliced cheese    8     10\n",
      "38761           2022 2014-02-23                  candy   23      2\n",
      "38762           1097 2014-04-16               cake bar   16      4\n",
      "38763           1510 2014-12-03  fruit/vegetable juice    3     12\n",
      "38764           1521 2014-12-26               cat food   26     12\n",
      "\n",
      "[38765 rows x 5 columns]\n"
     ]
    }
   ],
   "source": [
    "print(df)"
   ]
  },
  {
   "cell_type": "code",
   "execution_count": 31,
   "id": "510030c6-b4d5-4331-9b07-abbe6e1d0513",
   "metadata": {},
   "outputs": [
    {
     "ename": "AttributeError",
     "evalue": "Can only use .dt accessor with datetimelike values",
     "output_type": "error",
     "traceback": [
      "\u001b[1;31m---------------------------------------------------------------------------\u001b[0m",
      "\u001b[1;31mAttributeError\u001b[0m                            Traceback (most recent call last)",
      "Cell \u001b[1;32mIn[31], line 1\u001b[0m\n\u001b[1;32m----> 1\u001b[0m df[\u001b[38;5;124m'\u001b[39m\u001b[38;5;124myear\u001b[39m\u001b[38;5;124m'\u001b[39m] \u001b[38;5;241m=\u001b[39m df[\u001b[38;5;124m'\u001b[39m\u001b[38;5;124mDate\u001b[39m\u001b[38;5;124m'\u001b[39m]\u001b[38;5;241m.\u001b[39mdt\u001b[38;5;241m.\u001b[39myear\n",
      "File \u001b[1;32mC:\\ProgramData\\anaconda3\\Lib\\site-packages\\pandas\\core\\generic.py:6299\u001b[0m, in \u001b[0;36mNDFrame.__getattr__\u001b[1;34m(self, name)\u001b[0m\n\u001b[0;32m   6292\u001b[0m \u001b[38;5;28;01mif\u001b[39;00m (\n\u001b[0;32m   6293\u001b[0m     name \u001b[38;5;129;01mnot\u001b[39;00m \u001b[38;5;129;01min\u001b[39;00m \u001b[38;5;28mself\u001b[39m\u001b[38;5;241m.\u001b[39m_internal_names_set\n\u001b[0;32m   6294\u001b[0m     \u001b[38;5;129;01mand\u001b[39;00m name \u001b[38;5;129;01mnot\u001b[39;00m \u001b[38;5;129;01min\u001b[39;00m \u001b[38;5;28mself\u001b[39m\u001b[38;5;241m.\u001b[39m_metadata\n\u001b[0;32m   6295\u001b[0m     \u001b[38;5;129;01mand\u001b[39;00m name \u001b[38;5;129;01mnot\u001b[39;00m \u001b[38;5;129;01min\u001b[39;00m \u001b[38;5;28mself\u001b[39m\u001b[38;5;241m.\u001b[39m_accessors\n\u001b[0;32m   6296\u001b[0m     \u001b[38;5;129;01mand\u001b[39;00m \u001b[38;5;28mself\u001b[39m\u001b[38;5;241m.\u001b[39m_info_axis\u001b[38;5;241m.\u001b[39m_can_hold_identifiers_and_holds_name(name)\n\u001b[0;32m   6297\u001b[0m ):\n\u001b[0;32m   6298\u001b[0m     \u001b[38;5;28;01mreturn\u001b[39;00m \u001b[38;5;28mself\u001b[39m[name]\n\u001b[1;32m-> 6299\u001b[0m \u001b[38;5;28;01mreturn\u001b[39;00m \u001b[38;5;28mobject\u001b[39m\u001b[38;5;241m.\u001b[39m\u001b[38;5;21m__getattribute__\u001b[39m(\u001b[38;5;28mself\u001b[39m, name)\n",
      "File \u001b[1;32mC:\\ProgramData\\anaconda3\\Lib\\site-packages\\pandas\\core\\accessor.py:224\u001b[0m, in \u001b[0;36mCachedAccessor.__get__\u001b[1;34m(self, obj, cls)\u001b[0m\n\u001b[0;32m    221\u001b[0m \u001b[38;5;28;01mif\u001b[39;00m obj \u001b[38;5;129;01mis\u001b[39;00m \u001b[38;5;28;01mNone\u001b[39;00m:\n\u001b[0;32m    222\u001b[0m     \u001b[38;5;66;03m# we're accessing the attribute of the class, i.e., Dataset.geo\u001b[39;00m\n\u001b[0;32m    223\u001b[0m     \u001b[38;5;28;01mreturn\u001b[39;00m \u001b[38;5;28mself\u001b[39m\u001b[38;5;241m.\u001b[39m_accessor\n\u001b[1;32m--> 224\u001b[0m accessor_obj \u001b[38;5;241m=\u001b[39m \u001b[38;5;28mself\u001b[39m\u001b[38;5;241m.\u001b[39m_accessor(obj)\n\u001b[0;32m    225\u001b[0m \u001b[38;5;66;03m# Replace the property with the accessor object. Inspired by:\u001b[39;00m\n\u001b[0;32m    226\u001b[0m \u001b[38;5;66;03m# https://www.pydanny.com/cached-property.html\u001b[39;00m\n\u001b[0;32m    227\u001b[0m \u001b[38;5;66;03m# We need to use object.__setattr__ because we overwrite __setattr__ on\u001b[39;00m\n\u001b[0;32m    228\u001b[0m \u001b[38;5;66;03m# NDFrame\u001b[39;00m\n\u001b[0;32m    229\u001b[0m \u001b[38;5;28mobject\u001b[39m\u001b[38;5;241m.\u001b[39m\u001b[38;5;21m__setattr__\u001b[39m(obj, \u001b[38;5;28mself\u001b[39m\u001b[38;5;241m.\u001b[39m_name, accessor_obj)\n",
      "File \u001b[1;32mC:\\ProgramData\\anaconda3\\Lib\\site-packages\\pandas\\core\\indexes\\accessors.py:643\u001b[0m, in \u001b[0;36mCombinedDatetimelikeProperties.__new__\u001b[1;34m(cls, data)\u001b[0m\n\u001b[0;32m    640\u001b[0m \u001b[38;5;28;01melif\u001b[39;00m \u001b[38;5;28misinstance\u001b[39m(data\u001b[38;5;241m.\u001b[39mdtype, PeriodDtype):\n\u001b[0;32m    641\u001b[0m     \u001b[38;5;28;01mreturn\u001b[39;00m PeriodProperties(data, orig)\n\u001b[1;32m--> 643\u001b[0m \u001b[38;5;28;01mraise\u001b[39;00m \u001b[38;5;167;01mAttributeError\u001b[39;00m(\u001b[38;5;124m\"\u001b[39m\u001b[38;5;124mCan only use .dt accessor with datetimelike values\u001b[39m\u001b[38;5;124m\"\u001b[39m)\n",
      "\u001b[1;31mAttributeError\u001b[0m: Can only use .dt accessor with datetimelike values"
     ]
    }
   ],
   "source": [
    "df['year'] = df['Date'].dt.year"
   ]
  },
  {
   "cell_type": "code",
   "execution_count": 107,
   "id": "5df7288d-bdac-4a12-8a28-69f154918022",
   "metadata": {},
   "outputs": [
    {
     "name": "stdout",
     "output_type": "stream",
     "text": [
      "       Member_number       Date        itemDescription  Day  month  year\n",
      "0               1808 2015-07-21         tropical fruit   21      7  2015\n",
      "1               2552 2015-01-05             whole milk    5      1  2015\n",
      "2               2300 2015-09-19              pip fruit   19      9  2015\n",
      "3               1187 2015-12-12       other vegetables   12     12  2015\n",
      "4               3037 2015-02-01             whole milk    1      2  2015\n",
      "...              ...        ...                    ...  ...    ...   ...\n",
      "38760           4471 2014-10-08          sliced cheese    8     10  2014\n",
      "38761           2022 2014-02-23                  candy   23      2  2014\n",
      "38762           1097 2014-04-16               cake bar   16      4  2014\n",
      "38763           1510 2014-12-03  fruit/vegetable juice    3     12  2014\n",
      "38764           1521 2014-12-26               cat food   26     12  2014\n",
      "\n",
      "[38765 rows x 6 columns]\n"
     ]
    }
   ],
   "source": [
    "print(df)"
   ]
  },
  {
   "cell_type": "code",
   "execution_count": 33,
   "id": "9e8a7eec-c54d-4548-be0c-0e8866cbfd48",
   "metadata": {},
   "outputs": [],
   "source": [
    "# Function to map dates to seasons\n",
    "def get_season(date):\n",
    "    month = date.month\n",
    "    day = date.day\n",
    "    \n",
    "    # Ensure proper indentation for each conditional block\n",
    "    if (month == 3 and day >= 20) or (month in [4, 5]) or (month == 6 and day < 21):\n",
    "        return 'Spring'  # This line needs to be indented\n",
    "    elif (month == 6 and day >= 21) or (month in [7, 8]) or (month == 9 and day < 23):\n",
    "        return 'Summer'  # Indented as well\n",
    "    elif (month == 9 and day >= 23) or (month in [10, 11]) or (month == 12 and day < 21):\n",
    "        return 'Autumn'  # Indented\n",
    "    else:\n",
    "        return 'Winter'  # Indented\n"
   ]
  },
  {
   "cell_type": "code",
   "execution_count": 35,
   "id": "0f068103-1b69-438e-a9f5-01a46456033b",
   "metadata": {},
   "outputs": [
    {
     "name": "stdout",
     "output_type": "stream",
     "text": [
      "       Member_number        Date        itemDescription\n",
      "0               1808   7/21/2015         tropical fruit\n",
      "1               2552    1/5/2015             whole milk\n",
      "2               2300   9/19/2015              pip fruit\n",
      "3               1187  12/12/2015       other vegetables\n",
      "4               3037    2/1/2015             whole milk\n",
      "...              ...         ...                    ...\n",
      "38760           4471   10/8/2014          sliced cheese\n",
      "38761           2022   2/23/2014                  candy\n",
      "38762           1097   4/16/2014               cake bar\n",
      "38763           1510   12/3/2014  fruit/vegetable juice\n",
      "38764           1521  12/26/2014               cat food\n",
      "\n",
      "[38765 rows x 3 columns]\n"
     ]
    }
   ],
   "source": [
    "print(df)"
   ]
  },
  {
   "cell_type": "code",
   "execution_count": 39,
   "id": "8f66ab32-2ba6-4fef-b2a0-b9e8f4b8054e",
   "metadata": {},
   "outputs": [
    {
     "ename": "KeyError",
     "evalue": "\"['Season'] not in index\"",
     "output_type": "error",
     "traceback": [
      "\u001b[1;31m---------------------------------------------------------------------------\u001b[0m",
      "\u001b[1;31mKeyError\u001b[0m                                  Traceback (most recent call last)",
      "Cell \u001b[1;32mIn[39], line 1\u001b[0m\n\u001b[1;32m----> 1\u001b[0m \u001b[38;5;28mprint\u001b[39m(df[[\u001b[38;5;124m'\u001b[39m\u001b[38;5;124mDate\u001b[39m\u001b[38;5;124m'\u001b[39m, \u001b[38;5;124m'\u001b[39m\u001b[38;5;124mSeason\u001b[39m\u001b[38;5;124m'\u001b[39m]])\n",
      "File \u001b[1;32mC:\\ProgramData\\anaconda3\\Lib\\site-packages\\pandas\\core\\frame.py:4108\u001b[0m, in \u001b[0;36mDataFrame.__getitem__\u001b[1;34m(self, key)\u001b[0m\n\u001b[0;32m   4106\u001b[0m     \u001b[38;5;28;01mif\u001b[39;00m is_iterator(key):\n\u001b[0;32m   4107\u001b[0m         key \u001b[38;5;241m=\u001b[39m \u001b[38;5;28mlist\u001b[39m(key)\n\u001b[1;32m-> 4108\u001b[0m     indexer \u001b[38;5;241m=\u001b[39m \u001b[38;5;28mself\u001b[39m\u001b[38;5;241m.\u001b[39mcolumns\u001b[38;5;241m.\u001b[39m_get_indexer_strict(key, \u001b[38;5;124m\"\u001b[39m\u001b[38;5;124mcolumns\u001b[39m\u001b[38;5;124m\"\u001b[39m)[\u001b[38;5;241m1\u001b[39m]\n\u001b[0;32m   4110\u001b[0m \u001b[38;5;66;03m# take() does not accept boolean indexers\u001b[39;00m\n\u001b[0;32m   4111\u001b[0m \u001b[38;5;28;01mif\u001b[39;00m \u001b[38;5;28mgetattr\u001b[39m(indexer, \u001b[38;5;124m\"\u001b[39m\u001b[38;5;124mdtype\u001b[39m\u001b[38;5;124m\"\u001b[39m, \u001b[38;5;28;01mNone\u001b[39;00m) \u001b[38;5;241m==\u001b[39m \u001b[38;5;28mbool\u001b[39m:\n",
      "File \u001b[1;32mC:\\ProgramData\\anaconda3\\Lib\\site-packages\\pandas\\core\\indexes\\base.py:6200\u001b[0m, in \u001b[0;36mIndex._get_indexer_strict\u001b[1;34m(self, key, axis_name)\u001b[0m\n\u001b[0;32m   6197\u001b[0m \u001b[38;5;28;01melse\u001b[39;00m:\n\u001b[0;32m   6198\u001b[0m     keyarr, indexer, new_indexer \u001b[38;5;241m=\u001b[39m \u001b[38;5;28mself\u001b[39m\u001b[38;5;241m.\u001b[39m_reindex_non_unique(keyarr)\n\u001b[1;32m-> 6200\u001b[0m \u001b[38;5;28mself\u001b[39m\u001b[38;5;241m.\u001b[39m_raise_if_missing(keyarr, indexer, axis_name)\n\u001b[0;32m   6202\u001b[0m keyarr \u001b[38;5;241m=\u001b[39m \u001b[38;5;28mself\u001b[39m\u001b[38;5;241m.\u001b[39mtake(indexer)\n\u001b[0;32m   6203\u001b[0m \u001b[38;5;28;01mif\u001b[39;00m \u001b[38;5;28misinstance\u001b[39m(key, Index):\n\u001b[0;32m   6204\u001b[0m     \u001b[38;5;66;03m# GH 42790 - Preserve name from an Index\u001b[39;00m\n",
      "File \u001b[1;32mC:\\ProgramData\\anaconda3\\Lib\\site-packages\\pandas\\core\\indexes\\base.py:6252\u001b[0m, in \u001b[0;36mIndex._raise_if_missing\u001b[1;34m(self, key, indexer, axis_name)\u001b[0m\n\u001b[0;32m   6249\u001b[0m     \u001b[38;5;28;01mraise\u001b[39;00m \u001b[38;5;167;01mKeyError\u001b[39;00m(\u001b[38;5;124mf\u001b[39m\u001b[38;5;124m\"\u001b[39m\u001b[38;5;124mNone of [\u001b[39m\u001b[38;5;132;01m{\u001b[39;00mkey\u001b[38;5;132;01m}\u001b[39;00m\u001b[38;5;124m] are in the [\u001b[39m\u001b[38;5;132;01m{\u001b[39;00maxis_name\u001b[38;5;132;01m}\u001b[39;00m\u001b[38;5;124m]\u001b[39m\u001b[38;5;124m\"\u001b[39m)\n\u001b[0;32m   6251\u001b[0m not_found \u001b[38;5;241m=\u001b[39m \u001b[38;5;28mlist\u001b[39m(ensure_index(key)[missing_mask\u001b[38;5;241m.\u001b[39mnonzero()[\u001b[38;5;241m0\u001b[39m]]\u001b[38;5;241m.\u001b[39munique())\n\u001b[1;32m-> 6252\u001b[0m \u001b[38;5;28;01mraise\u001b[39;00m \u001b[38;5;167;01mKeyError\u001b[39;00m(\u001b[38;5;124mf\u001b[39m\u001b[38;5;124m\"\u001b[39m\u001b[38;5;132;01m{\u001b[39;00mnot_found\u001b[38;5;132;01m}\u001b[39;00m\u001b[38;5;124m not in index\u001b[39m\u001b[38;5;124m\"\u001b[39m)\n",
      "\u001b[1;31mKeyError\u001b[0m: \"['Season'] not in index\""
     ]
    }
   ],
   "source": [
    "print(df[['Date', 'Season']])\n"
   ]
  },
  {
   "cell_type": "code",
   "execution_count": 41,
   "id": "dff94923-911e-4aa9-a2be-51bc21c65af5",
   "metadata": {},
   "outputs": [
    {
     "ename": "AttributeError",
     "evalue": "'str' object has no attribute 'month'",
     "output_type": "error",
     "traceback": [
      "\u001b[1;31m---------------------------------------------------------------------------\u001b[0m",
      "\u001b[1;31mAttributeError\u001b[0m                            Traceback (most recent call last)",
      "Cell \u001b[1;32mIn[41], line 1\u001b[0m\n\u001b[1;32m----> 1\u001b[0m df[\u001b[38;5;124m'\u001b[39m\u001b[38;5;124mseason\u001b[39m\u001b[38;5;124m'\u001b[39m] \u001b[38;5;241m=\u001b[39m df[\u001b[38;5;124m'\u001b[39m\u001b[38;5;124mDate\u001b[39m\u001b[38;5;124m'\u001b[39m]\u001b[38;5;241m.\u001b[39mapply(get_season)\n",
      "File \u001b[1;32mC:\\ProgramData\\anaconda3\\Lib\\site-packages\\pandas\\core\\series.py:4924\u001b[0m, in \u001b[0;36mSeries.apply\u001b[1;34m(self, func, convert_dtype, args, by_row, **kwargs)\u001b[0m\n\u001b[0;32m   4789\u001b[0m \u001b[38;5;28;01mdef\u001b[39;00m \u001b[38;5;21mapply\u001b[39m(\n\u001b[0;32m   4790\u001b[0m     \u001b[38;5;28mself\u001b[39m,\n\u001b[0;32m   4791\u001b[0m     func: AggFuncType,\n\u001b[1;32m   (...)\u001b[0m\n\u001b[0;32m   4796\u001b[0m     \u001b[38;5;241m*\u001b[39m\u001b[38;5;241m*\u001b[39mkwargs,\n\u001b[0;32m   4797\u001b[0m ) \u001b[38;5;241m-\u001b[39m\u001b[38;5;241m>\u001b[39m DataFrame \u001b[38;5;241m|\u001b[39m Series:\n\u001b[0;32m   4798\u001b[0m \u001b[38;5;250m    \u001b[39m\u001b[38;5;124;03m\"\"\"\u001b[39;00m\n\u001b[0;32m   4799\u001b[0m \u001b[38;5;124;03m    Invoke function on values of Series.\u001b[39;00m\n\u001b[0;32m   4800\u001b[0m \n\u001b[1;32m   (...)\u001b[0m\n\u001b[0;32m   4915\u001b[0m \u001b[38;5;124;03m    dtype: float64\u001b[39;00m\n\u001b[0;32m   4916\u001b[0m \u001b[38;5;124;03m    \"\"\"\u001b[39;00m\n\u001b[0;32m   4917\u001b[0m     \u001b[38;5;28;01mreturn\u001b[39;00m SeriesApply(\n\u001b[0;32m   4918\u001b[0m         \u001b[38;5;28mself\u001b[39m,\n\u001b[0;32m   4919\u001b[0m         func,\n\u001b[0;32m   4920\u001b[0m         convert_dtype\u001b[38;5;241m=\u001b[39mconvert_dtype,\n\u001b[0;32m   4921\u001b[0m         by_row\u001b[38;5;241m=\u001b[39mby_row,\n\u001b[0;32m   4922\u001b[0m         args\u001b[38;5;241m=\u001b[39margs,\n\u001b[0;32m   4923\u001b[0m         kwargs\u001b[38;5;241m=\u001b[39mkwargs,\n\u001b[1;32m-> 4924\u001b[0m     )\u001b[38;5;241m.\u001b[39mapply()\n",
      "File \u001b[1;32mC:\\ProgramData\\anaconda3\\Lib\\site-packages\\pandas\\core\\apply.py:1427\u001b[0m, in \u001b[0;36mSeriesApply.apply\u001b[1;34m(self)\u001b[0m\n\u001b[0;32m   1424\u001b[0m     \u001b[38;5;28;01mreturn\u001b[39;00m \u001b[38;5;28mself\u001b[39m\u001b[38;5;241m.\u001b[39mapply_compat()\n\u001b[0;32m   1426\u001b[0m \u001b[38;5;66;03m# self.func is Callable\u001b[39;00m\n\u001b[1;32m-> 1427\u001b[0m \u001b[38;5;28;01mreturn\u001b[39;00m \u001b[38;5;28mself\u001b[39m\u001b[38;5;241m.\u001b[39mapply_standard()\n",
      "File \u001b[1;32mC:\\ProgramData\\anaconda3\\Lib\\site-packages\\pandas\\core\\apply.py:1507\u001b[0m, in \u001b[0;36mSeriesApply.apply_standard\u001b[1;34m(self)\u001b[0m\n\u001b[0;32m   1501\u001b[0m \u001b[38;5;66;03m# row-wise access\u001b[39;00m\n\u001b[0;32m   1502\u001b[0m \u001b[38;5;66;03m# apply doesn't have a `na_action` keyword and for backward compat reasons\u001b[39;00m\n\u001b[0;32m   1503\u001b[0m \u001b[38;5;66;03m# we need to give `na_action=\"ignore\"` for categorical data.\u001b[39;00m\n\u001b[0;32m   1504\u001b[0m \u001b[38;5;66;03m# TODO: remove the `na_action=\"ignore\"` when that default has been changed in\u001b[39;00m\n\u001b[0;32m   1505\u001b[0m \u001b[38;5;66;03m#  Categorical (GH51645).\u001b[39;00m\n\u001b[0;32m   1506\u001b[0m action \u001b[38;5;241m=\u001b[39m \u001b[38;5;124m\"\u001b[39m\u001b[38;5;124mignore\u001b[39m\u001b[38;5;124m\"\u001b[39m \u001b[38;5;28;01mif\u001b[39;00m \u001b[38;5;28misinstance\u001b[39m(obj\u001b[38;5;241m.\u001b[39mdtype, CategoricalDtype) \u001b[38;5;28;01melse\u001b[39;00m \u001b[38;5;28;01mNone\u001b[39;00m\n\u001b[1;32m-> 1507\u001b[0m mapped \u001b[38;5;241m=\u001b[39m obj\u001b[38;5;241m.\u001b[39m_map_values(\n\u001b[0;32m   1508\u001b[0m     mapper\u001b[38;5;241m=\u001b[39mcurried, na_action\u001b[38;5;241m=\u001b[39maction, convert\u001b[38;5;241m=\u001b[39m\u001b[38;5;28mself\u001b[39m\u001b[38;5;241m.\u001b[39mconvert_dtype\n\u001b[0;32m   1509\u001b[0m )\n\u001b[0;32m   1511\u001b[0m \u001b[38;5;28;01mif\u001b[39;00m \u001b[38;5;28mlen\u001b[39m(mapped) \u001b[38;5;129;01mand\u001b[39;00m \u001b[38;5;28misinstance\u001b[39m(mapped[\u001b[38;5;241m0\u001b[39m], ABCSeries):\n\u001b[0;32m   1512\u001b[0m     \u001b[38;5;66;03m# GH#43986 Need to do list(mapped) in order to get treated as nested\u001b[39;00m\n\u001b[0;32m   1513\u001b[0m     \u001b[38;5;66;03m#  See also GH#25959 regarding EA support\u001b[39;00m\n\u001b[0;32m   1514\u001b[0m     \u001b[38;5;28;01mreturn\u001b[39;00m obj\u001b[38;5;241m.\u001b[39m_constructor_expanddim(\u001b[38;5;28mlist\u001b[39m(mapped), index\u001b[38;5;241m=\u001b[39mobj\u001b[38;5;241m.\u001b[39mindex)\n",
      "File \u001b[1;32mC:\\ProgramData\\anaconda3\\Lib\\site-packages\\pandas\\core\\base.py:921\u001b[0m, in \u001b[0;36mIndexOpsMixin._map_values\u001b[1;34m(self, mapper, na_action, convert)\u001b[0m\n\u001b[0;32m    918\u001b[0m \u001b[38;5;28;01mif\u001b[39;00m \u001b[38;5;28misinstance\u001b[39m(arr, ExtensionArray):\n\u001b[0;32m    919\u001b[0m     \u001b[38;5;28;01mreturn\u001b[39;00m arr\u001b[38;5;241m.\u001b[39mmap(mapper, na_action\u001b[38;5;241m=\u001b[39mna_action)\n\u001b[1;32m--> 921\u001b[0m \u001b[38;5;28;01mreturn\u001b[39;00m algorithms\u001b[38;5;241m.\u001b[39mmap_array(arr, mapper, na_action\u001b[38;5;241m=\u001b[39mna_action, convert\u001b[38;5;241m=\u001b[39mconvert)\n",
      "File \u001b[1;32mC:\\ProgramData\\anaconda3\\Lib\\site-packages\\pandas\\core\\algorithms.py:1743\u001b[0m, in \u001b[0;36mmap_array\u001b[1;34m(arr, mapper, na_action, convert)\u001b[0m\n\u001b[0;32m   1741\u001b[0m values \u001b[38;5;241m=\u001b[39m arr\u001b[38;5;241m.\u001b[39mastype(\u001b[38;5;28mobject\u001b[39m, copy\u001b[38;5;241m=\u001b[39m\u001b[38;5;28;01mFalse\u001b[39;00m)\n\u001b[0;32m   1742\u001b[0m \u001b[38;5;28;01mif\u001b[39;00m na_action \u001b[38;5;129;01mis\u001b[39;00m \u001b[38;5;28;01mNone\u001b[39;00m:\n\u001b[1;32m-> 1743\u001b[0m     \u001b[38;5;28;01mreturn\u001b[39;00m lib\u001b[38;5;241m.\u001b[39mmap_infer(values, mapper, convert\u001b[38;5;241m=\u001b[39mconvert)\n\u001b[0;32m   1744\u001b[0m \u001b[38;5;28;01melse\u001b[39;00m:\n\u001b[0;32m   1745\u001b[0m     \u001b[38;5;28;01mreturn\u001b[39;00m lib\u001b[38;5;241m.\u001b[39mmap_infer_mask(\n\u001b[0;32m   1746\u001b[0m         values, mapper, mask\u001b[38;5;241m=\u001b[39misna(values)\u001b[38;5;241m.\u001b[39mview(np\u001b[38;5;241m.\u001b[39muint8), convert\u001b[38;5;241m=\u001b[39mconvert\n\u001b[0;32m   1747\u001b[0m     )\n",
      "File \u001b[1;32mlib.pyx:2972\u001b[0m, in \u001b[0;36mpandas._libs.lib.map_infer\u001b[1;34m()\u001b[0m\n",
      "Cell \u001b[1;32mIn[33], line 3\u001b[0m, in \u001b[0;36mget_season\u001b[1;34m(date)\u001b[0m\n\u001b[0;32m      2\u001b[0m \u001b[38;5;28;01mdef\u001b[39;00m \u001b[38;5;21mget_season\u001b[39m(date):\n\u001b[1;32m----> 3\u001b[0m     month \u001b[38;5;241m=\u001b[39m date\u001b[38;5;241m.\u001b[39mmonth\n\u001b[0;32m      4\u001b[0m     day \u001b[38;5;241m=\u001b[39m date\u001b[38;5;241m.\u001b[39mday\n\u001b[0;32m      6\u001b[0m     \u001b[38;5;66;03m# Ensure proper indentation for each conditional block\u001b[39;00m\n",
      "\u001b[1;31mAttributeError\u001b[0m: 'str' object has no attribute 'month'"
     ]
    }
   ],
   "source": [
    "df['season'] = df['Date'].apply(get_season)"
   ]
  },
  {
   "cell_type": "code",
   "execution_count": 121,
   "id": "a0abd4e2-1a1a-4ba5-94ad-d22587db3f44",
   "metadata": {},
   "outputs": [
    {
     "name": "stdout",
     "output_type": "stream",
     "text": [
      "       Member_number       Date        itemDescription  Day  month  year  \\\n",
      "0               1808 2015-07-21         tropical fruit   21      7  2015   \n",
      "1               2552 2015-01-05             whole milk    5      1  2015   \n",
      "2               2300 2015-09-19              pip fruit   19      9  2015   \n",
      "3               1187 2015-12-12       other vegetables   12     12  2015   \n",
      "4               3037 2015-02-01             whole milk    1      2  2015   \n",
      "...              ...        ...                    ...  ...    ...   ...   \n",
      "38760           4471 2014-10-08          sliced cheese    8     10  2014   \n",
      "38761           2022 2014-02-23                  candy   23      2  2014   \n",
      "38762           1097 2014-04-16               cake bar   16      4  2014   \n",
      "38763           1510 2014-12-03  fruit/vegetable juice    3     12  2014   \n",
      "38764           1521 2014-12-26               cat food   26     12  2014   \n",
      "\n",
      "       season  \n",
      "0      Summer  \n",
      "1      Winter  \n",
      "2      Summer  \n",
      "3      Autumn  \n",
      "4      Winter  \n",
      "...       ...  \n",
      "38760  Autumn  \n",
      "38761  Winter  \n",
      "38762  Spring  \n",
      "38763  Autumn  \n",
      "38764  Winter  \n",
      "\n",
      "[38765 rows x 7 columns]\n"
     ]
    }
   ],
   "source": [
    "print(df)"
   ]
  },
  {
   "cell_type": "code",
   "execution_count": 125,
   "id": "0e85d93c-3d1f-435c-b607-ee06010bd8f9",
   "metadata": {},
   "outputs": [
    {
     "ename": "KeyError",
     "evalue": "'Column not found: itemdescription'",
     "output_type": "error",
     "traceback": [
      "\u001b[1;31m---------------------------------------------------------------------------\u001b[0m",
      "\u001b[1;31mKeyError\u001b[0m                                  Traceback (most recent call last)",
      "Cell \u001b[1;32mIn[125], line 1\u001b[0m\n\u001b[1;32m----> 1\u001b[0m season_sales \u001b[38;5;241m=\u001b[39m df\u001b[38;5;241m.\u001b[39mgroupby(\u001b[38;5;124m'\u001b[39m\u001b[38;5;124mseason\u001b[39m\u001b[38;5;124m'\u001b[39m)[\u001b[38;5;124m'\u001b[39m\u001b[38;5;124mitemdescription\u001b[39m\u001b[38;5;124m'\u001b[39m]\u001b[38;5;241m.\u001b[39mcount()\u001b[38;5;241m.\u001b[39mreset_index()\n",
      "File \u001b[1;32mC:\\ProgramData\\anaconda3\\Lib\\site-packages\\pandas\\core\\groupby\\generic.py:1951\u001b[0m, in \u001b[0;36mDataFrameGroupBy.__getitem__\u001b[1;34m(self, key)\u001b[0m\n\u001b[0;32m   1944\u001b[0m \u001b[38;5;28;01mif\u001b[39;00m \u001b[38;5;28misinstance\u001b[39m(key, \u001b[38;5;28mtuple\u001b[39m) \u001b[38;5;129;01mand\u001b[39;00m \u001b[38;5;28mlen\u001b[39m(key) \u001b[38;5;241m>\u001b[39m \u001b[38;5;241m1\u001b[39m:\n\u001b[0;32m   1945\u001b[0m     \u001b[38;5;66;03m# if len == 1, then it becomes a SeriesGroupBy and this is actually\u001b[39;00m\n\u001b[0;32m   1946\u001b[0m     \u001b[38;5;66;03m# valid syntax, so don't raise\u001b[39;00m\n\u001b[0;32m   1947\u001b[0m     \u001b[38;5;28;01mraise\u001b[39;00m \u001b[38;5;167;01mValueError\u001b[39;00m(\n\u001b[0;32m   1948\u001b[0m         \u001b[38;5;124m\"\u001b[39m\u001b[38;5;124mCannot subset columns with a tuple with more than one element. \u001b[39m\u001b[38;5;124m\"\u001b[39m\n\u001b[0;32m   1949\u001b[0m         \u001b[38;5;124m\"\u001b[39m\u001b[38;5;124mUse a list instead.\u001b[39m\u001b[38;5;124m\"\u001b[39m\n\u001b[0;32m   1950\u001b[0m     )\n\u001b[1;32m-> 1951\u001b[0m \u001b[38;5;28;01mreturn\u001b[39;00m \u001b[38;5;28msuper\u001b[39m()\u001b[38;5;241m.\u001b[39m\u001b[38;5;21m__getitem__\u001b[39m(key)\n",
      "File \u001b[1;32mC:\\ProgramData\\anaconda3\\Lib\\site-packages\\pandas\\core\\base.py:244\u001b[0m, in \u001b[0;36mSelectionMixin.__getitem__\u001b[1;34m(self, key)\u001b[0m\n\u001b[0;32m    242\u001b[0m \u001b[38;5;28;01melse\u001b[39;00m:\n\u001b[0;32m    243\u001b[0m     \u001b[38;5;28;01mif\u001b[39;00m key \u001b[38;5;129;01mnot\u001b[39;00m \u001b[38;5;129;01min\u001b[39;00m \u001b[38;5;28mself\u001b[39m\u001b[38;5;241m.\u001b[39mobj:\n\u001b[1;32m--> 244\u001b[0m         \u001b[38;5;28;01mraise\u001b[39;00m \u001b[38;5;167;01mKeyError\u001b[39;00m(\u001b[38;5;124mf\u001b[39m\u001b[38;5;124m\"\u001b[39m\u001b[38;5;124mColumn not found: \u001b[39m\u001b[38;5;132;01m{\u001b[39;00mkey\u001b[38;5;132;01m}\u001b[39;00m\u001b[38;5;124m\"\u001b[39m)\n\u001b[0;32m    245\u001b[0m     ndim \u001b[38;5;241m=\u001b[39m \u001b[38;5;28mself\u001b[39m\u001b[38;5;241m.\u001b[39mobj[key]\u001b[38;5;241m.\u001b[39mndim\n\u001b[0;32m    246\u001b[0m     \u001b[38;5;28;01mreturn\u001b[39;00m \u001b[38;5;28mself\u001b[39m\u001b[38;5;241m.\u001b[39m_gotitem(key, ndim\u001b[38;5;241m=\u001b[39mndim)\n",
      "\u001b[1;31mKeyError\u001b[0m: 'Column not found: itemdescription'"
     ]
    }
   ],
   "source": [
    "season_sales = df.groupby('season')['itemdescription'].count().reset_index()"
   ]
  },
  {
   "cell_type": "code",
   "execution_count": 127,
   "id": "728cd23a-0ef9-4278-8428-65a89d1f219b",
   "metadata": {},
   "outputs": [
    {
     "ename": "NameError",
     "evalue": "name 'season_sales' is not defined",
     "output_type": "error",
     "traceback": [
      "\u001b[1;31m---------------------------------------------------------------------------\u001b[0m",
      "\u001b[1;31mNameError\u001b[0m                                 Traceback (most recent call last)",
      "Cell \u001b[1;32mIn[127], line 1\u001b[0m\n\u001b[1;32m----> 1\u001b[0m \u001b[38;5;28mprint\u001b[39m(season_sales)\n",
      "\u001b[1;31mNameError\u001b[0m: name 'season_sales' is not defined"
     ]
    }
   ],
   "source": [
    "print(season_sales)"
   ]
  },
  {
   "cell_type": "code",
   "execution_count": 43,
   "id": "f73f1a70-c83d-43c0-8e17-717c564e3fe6",
   "metadata": {},
   "outputs": [
    {
     "ename": "KeyError",
     "evalue": "'season'",
     "output_type": "error",
     "traceback": [
      "\u001b[1;31m---------------------------------------------------------------------------\u001b[0m",
      "\u001b[1;31mKeyError\u001b[0m                                  Traceback (most recent call last)",
      "Cell \u001b[1;32mIn[43], line 2\u001b[0m\n\u001b[0;32m      1\u001b[0m \u001b[38;5;66;03m# Group by 'season' and 'itemdescription' and get the count of items sold\u001b[39;00m\n\u001b[1;32m----> 2\u001b[0m season_sales \u001b[38;5;241m=\u001b[39m df\u001b[38;5;241m.\u001b[39mgroupby(\u001b[38;5;124m'\u001b[39m\u001b[38;5;124mseason\u001b[39m\u001b[38;5;124m'\u001b[39m)[\u001b[38;5;124m'\u001b[39m\u001b[38;5;124mitemDescription\u001b[39m\u001b[38;5;124m'\u001b[39m]\u001b[38;5;241m.\u001b[39mcount()\u001b[38;5;241m.\u001b[39mreset_index()\n\u001b[0;32m      4\u001b[0m \u001b[38;5;66;03m# Sort the result to get the season with the max items sold\u001b[39;00m\n\u001b[0;32m      5\u001b[0m max_season \u001b[38;5;241m=\u001b[39m season_sales\u001b[38;5;241m.\u001b[39msort_values(by\u001b[38;5;241m=\u001b[39m\u001b[38;5;124m'\u001b[39m\u001b[38;5;124mitemDescription\u001b[39m\u001b[38;5;124m'\u001b[39m, ascending\u001b[38;5;241m=\u001b[39m\u001b[38;5;28;01mFalse\u001b[39;00m)\u001b[38;5;241m.\u001b[39miloc[\u001b[38;5;241m0\u001b[39m]\n",
      "File \u001b[1;32mC:\\ProgramData\\anaconda3\\Lib\\site-packages\\pandas\\core\\frame.py:9183\u001b[0m, in \u001b[0;36mDataFrame.groupby\u001b[1;34m(self, by, axis, level, as_index, sort, group_keys, observed, dropna)\u001b[0m\n\u001b[0;32m   9180\u001b[0m \u001b[38;5;28;01mif\u001b[39;00m level \u001b[38;5;129;01mis\u001b[39;00m \u001b[38;5;28;01mNone\u001b[39;00m \u001b[38;5;129;01mand\u001b[39;00m by \u001b[38;5;129;01mis\u001b[39;00m \u001b[38;5;28;01mNone\u001b[39;00m:\n\u001b[0;32m   9181\u001b[0m     \u001b[38;5;28;01mraise\u001b[39;00m \u001b[38;5;167;01mTypeError\u001b[39;00m(\u001b[38;5;124m\"\u001b[39m\u001b[38;5;124mYou have to supply one of \u001b[39m\u001b[38;5;124m'\u001b[39m\u001b[38;5;124mby\u001b[39m\u001b[38;5;124m'\u001b[39m\u001b[38;5;124m and \u001b[39m\u001b[38;5;124m'\u001b[39m\u001b[38;5;124mlevel\u001b[39m\u001b[38;5;124m'\u001b[39m\u001b[38;5;124m\"\u001b[39m)\n\u001b[1;32m-> 9183\u001b[0m \u001b[38;5;28;01mreturn\u001b[39;00m DataFrameGroupBy(\n\u001b[0;32m   9184\u001b[0m     obj\u001b[38;5;241m=\u001b[39m\u001b[38;5;28mself\u001b[39m,\n\u001b[0;32m   9185\u001b[0m     keys\u001b[38;5;241m=\u001b[39mby,\n\u001b[0;32m   9186\u001b[0m     axis\u001b[38;5;241m=\u001b[39maxis,\n\u001b[0;32m   9187\u001b[0m     level\u001b[38;5;241m=\u001b[39mlevel,\n\u001b[0;32m   9188\u001b[0m     as_index\u001b[38;5;241m=\u001b[39mas_index,\n\u001b[0;32m   9189\u001b[0m     sort\u001b[38;5;241m=\u001b[39msort,\n\u001b[0;32m   9190\u001b[0m     group_keys\u001b[38;5;241m=\u001b[39mgroup_keys,\n\u001b[0;32m   9191\u001b[0m     observed\u001b[38;5;241m=\u001b[39mobserved,\n\u001b[0;32m   9192\u001b[0m     dropna\u001b[38;5;241m=\u001b[39mdropna,\n\u001b[0;32m   9193\u001b[0m )\n",
      "File \u001b[1;32mC:\\ProgramData\\anaconda3\\Lib\\site-packages\\pandas\\core\\groupby\\groupby.py:1329\u001b[0m, in \u001b[0;36mGroupBy.__init__\u001b[1;34m(self, obj, keys, axis, level, grouper, exclusions, selection, as_index, sort, group_keys, observed, dropna)\u001b[0m\n\u001b[0;32m   1326\u001b[0m \u001b[38;5;28mself\u001b[39m\u001b[38;5;241m.\u001b[39mdropna \u001b[38;5;241m=\u001b[39m dropna\n\u001b[0;32m   1328\u001b[0m \u001b[38;5;28;01mif\u001b[39;00m grouper \u001b[38;5;129;01mis\u001b[39;00m \u001b[38;5;28;01mNone\u001b[39;00m:\n\u001b[1;32m-> 1329\u001b[0m     grouper, exclusions, obj \u001b[38;5;241m=\u001b[39m get_grouper(\n\u001b[0;32m   1330\u001b[0m         obj,\n\u001b[0;32m   1331\u001b[0m         keys,\n\u001b[0;32m   1332\u001b[0m         axis\u001b[38;5;241m=\u001b[39maxis,\n\u001b[0;32m   1333\u001b[0m         level\u001b[38;5;241m=\u001b[39mlevel,\n\u001b[0;32m   1334\u001b[0m         sort\u001b[38;5;241m=\u001b[39msort,\n\u001b[0;32m   1335\u001b[0m         observed\u001b[38;5;241m=\u001b[39m\u001b[38;5;28;01mFalse\u001b[39;00m \u001b[38;5;28;01mif\u001b[39;00m observed \u001b[38;5;129;01mis\u001b[39;00m lib\u001b[38;5;241m.\u001b[39mno_default \u001b[38;5;28;01melse\u001b[39;00m observed,\n\u001b[0;32m   1336\u001b[0m         dropna\u001b[38;5;241m=\u001b[39m\u001b[38;5;28mself\u001b[39m\u001b[38;5;241m.\u001b[39mdropna,\n\u001b[0;32m   1337\u001b[0m     )\n\u001b[0;32m   1339\u001b[0m \u001b[38;5;28;01mif\u001b[39;00m observed \u001b[38;5;129;01mis\u001b[39;00m lib\u001b[38;5;241m.\u001b[39mno_default:\n\u001b[0;32m   1340\u001b[0m     \u001b[38;5;28;01mif\u001b[39;00m \u001b[38;5;28many\u001b[39m(ping\u001b[38;5;241m.\u001b[39m_passed_categorical \u001b[38;5;28;01mfor\u001b[39;00m ping \u001b[38;5;129;01min\u001b[39;00m grouper\u001b[38;5;241m.\u001b[39mgroupings):\n",
      "File \u001b[1;32mC:\\ProgramData\\anaconda3\\Lib\\site-packages\\pandas\\core\\groupby\\grouper.py:1043\u001b[0m, in \u001b[0;36mget_grouper\u001b[1;34m(obj, key, axis, level, sort, observed, validate, dropna)\u001b[0m\n\u001b[0;32m   1041\u001b[0m         in_axis, level, gpr \u001b[38;5;241m=\u001b[39m \u001b[38;5;28;01mFalse\u001b[39;00m, gpr, \u001b[38;5;28;01mNone\u001b[39;00m\n\u001b[0;32m   1042\u001b[0m     \u001b[38;5;28;01melse\u001b[39;00m:\n\u001b[1;32m-> 1043\u001b[0m         \u001b[38;5;28;01mraise\u001b[39;00m \u001b[38;5;167;01mKeyError\u001b[39;00m(gpr)\n\u001b[0;32m   1044\u001b[0m \u001b[38;5;28;01melif\u001b[39;00m \u001b[38;5;28misinstance\u001b[39m(gpr, Grouper) \u001b[38;5;129;01mand\u001b[39;00m gpr\u001b[38;5;241m.\u001b[39mkey \u001b[38;5;129;01mis\u001b[39;00m \u001b[38;5;129;01mnot\u001b[39;00m \u001b[38;5;28;01mNone\u001b[39;00m:\n\u001b[0;32m   1045\u001b[0m     \u001b[38;5;66;03m# Add key to exclusions\u001b[39;00m\n\u001b[0;32m   1046\u001b[0m     exclusions\u001b[38;5;241m.\u001b[39madd(gpr\u001b[38;5;241m.\u001b[39mkey)\n",
      "\u001b[1;31mKeyError\u001b[0m: 'season'"
     ]
    }
   ],
   "source": [
    "# Group by 'season' and 'itemdescription' and get the count of items sold\n",
    "season_sales = df.groupby('season')['itemDescription'].count().reset_index()\n",
    "\n",
    "# Sort the result to get the season with the max items sold\n",
    "max_season = season_sales.sort_values(by='itemDescription', ascending=False).iloc[0]\n",
    "\n",
    "print(f\"The season with the maximum items sold is {max_season['season']} with {max_season['itemDescription']} items sold.\")\n"
   ]
  },
  {
   "cell_type": "code",
   "execution_count": 135,
   "id": "464d6ae5-800b-4024-bcff-54f396cb47c4",
   "metadata": {},
   "outputs": [
    {
     "name": "stdout",
     "output_type": "stream",
     "text": [
      "The month with the maximum items sold is 8 with 3496 items sold.\n"
     ]
    }
   ],
   "source": [
    "month_sales = df.groupby('month')['itemDescription'].count().reset_index()\n",
    "max_month = month_sales.sort_values(by='itemDescription',ascending=False).iloc[0]\n",
    "print(f\"The month with the maximum items sold is {max_month['month']} with {max_month['itemDescription']} items sold.\")"
   ]
  },
  {
   "cell_type": "code",
   "execution_count": 141,
   "id": "5b1d354e-6ec3-416f-a5a8-5c1af9e3dff3",
   "metadata": {},
   "outputs": [
    {
     "name": "stdout",
     "output_type": "stream",
     "text": [
      "The Day with the maximum items sold is 3 with 1393 items sold.\n"
     ]
    }
   ],
   "source": [
    "Day_sales = df.groupby('Day')['itemDescription'].count().reset_index()\n",
    "max_Day = Day_sales.sort_values(by='itemDescription',ascending=False).iloc[0]\n",
    "print(f\"The Day with the maximum items sold is {max_Day['Day']} with {max_Day['itemDescription']} items sold.\")"
   ]
  },
  {
   "cell_type": "code",
   "execution_count": 53,
   "id": "b038e2db-60bc-40c1-9ab5-a6fdbddd2d94",
   "metadata": {},
   "outputs": [
    {
     "name": "stdout",
     "output_type": "stream",
     "text": [
      "       Member_number        Date        itemDescription\n",
      "0               1808  21-07-2015         tropical fruit\n",
      "1               2552  05-01-2015             whole milk\n",
      "2               2300  19-09-2015              pip fruit\n",
      "3               1187  12-12-2015       other vegetables\n",
      "4               3037  01-02-2015             whole milk\n",
      "...              ...         ...                    ...\n",
      "38760           4471  08-10-2014          sliced cheese\n",
      "38761           2022  23-02-2014                  candy\n",
      "38762           1097  16-04-2014               cake bar\n",
      "38763           1510  03-12-2014  fruit/vegetable juice\n",
      "38764           1521  26-12-2014               cat food\n",
      "\n",
      "[38765 rows x 3 columns]\n"
     ]
    }
   ],
   "source": [
    "print(df)"
   ]
  },
  {
   "cell_type": "code",
   "execution_count": 89,
   "id": "f4113858-c78e-46cd-9fdd-bfd3339519a0",
   "metadata": {},
   "outputs": [
    {
     "ename": "KeyError",
     "evalue": "'year'",
     "output_type": "error",
     "traceback": [
      "\u001b[1;31m---------------------------------------------------------------------------\u001b[0m",
      "\u001b[1;31mKeyError\u001b[0m                                  Traceback (most recent call last)",
      "Cell \u001b[1;32mIn[89], line 1\u001b[0m\n\u001b[1;32m----> 1\u001b[0m year_sales \u001b[38;5;241m=\u001b[39m df\u001b[38;5;241m.\u001b[39mgroupby(\u001b[38;5;124m'\u001b[39m\u001b[38;5;124myear\u001b[39m\u001b[38;5;124m'\u001b[39m)[\u001b[38;5;124m'\u001b[39m\u001b[38;5;124mitemDescription\u001b[39m\u001b[38;5;124m'\u001b[39m]\u001b[38;5;241m.\u001b[39mcount()\u001b[38;5;241m.\u001b[39mreset_index()\n\u001b[0;32m      2\u001b[0m max_year \u001b[38;5;241m=\u001b[39m year_sales\u001b[38;5;241m.\u001b[39mnlargest(\u001b[38;5;241m1\u001b[39m, \u001b[38;5;124m'\u001b[39m\u001b[38;5;124mitemDescription\u001b[39m\u001b[38;5;124m'\u001b[39m)\n\u001b[0;32m      3\u001b[0m \u001b[38;5;28mprint\u001b[39m(\u001b[38;5;124mf\u001b[39m\u001b[38;5;124m\"\u001b[39m\u001b[38;5;124mThe year with the maximum items sold is \u001b[39m\u001b[38;5;132;01m{\u001b[39;00mmax_year[\u001b[38;5;124m'\u001b[39m\u001b[38;5;124myear\u001b[39m\u001b[38;5;124m'\u001b[39m]\u001b[38;5;132;01m}\u001b[39;00m\u001b[38;5;124m with \u001b[39m\u001b[38;5;132;01m{\u001b[39;00mmax_year[\u001b[38;5;124m'\u001b[39m\u001b[38;5;124mitemDescription\u001b[39m\u001b[38;5;124m'\u001b[39m]\u001b[38;5;132;01m}\u001b[39;00m\u001b[38;5;124m items sold.\u001b[39m\u001b[38;5;124m\"\u001b[39m)\n",
      "File \u001b[1;32mC:\\ProgramData\\anaconda3\\Lib\\site-packages\\pandas\\core\\frame.py:9183\u001b[0m, in \u001b[0;36mDataFrame.groupby\u001b[1;34m(self, by, axis, level, as_index, sort, group_keys, observed, dropna)\u001b[0m\n\u001b[0;32m   9180\u001b[0m \u001b[38;5;28;01mif\u001b[39;00m level \u001b[38;5;129;01mis\u001b[39;00m \u001b[38;5;28;01mNone\u001b[39;00m \u001b[38;5;129;01mand\u001b[39;00m by \u001b[38;5;129;01mis\u001b[39;00m \u001b[38;5;28;01mNone\u001b[39;00m:\n\u001b[0;32m   9181\u001b[0m     \u001b[38;5;28;01mraise\u001b[39;00m \u001b[38;5;167;01mTypeError\u001b[39;00m(\u001b[38;5;124m\"\u001b[39m\u001b[38;5;124mYou have to supply one of \u001b[39m\u001b[38;5;124m'\u001b[39m\u001b[38;5;124mby\u001b[39m\u001b[38;5;124m'\u001b[39m\u001b[38;5;124m and \u001b[39m\u001b[38;5;124m'\u001b[39m\u001b[38;5;124mlevel\u001b[39m\u001b[38;5;124m'\u001b[39m\u001b[38;5;124m\"\u001b[39m)\n\u001b[1;32m-> 9183\u001b[0m \u001b[38;5;28;01mreturn\u001b[39;00m DataFrameGroupBy(\n\u001b[0;32m   9184\u001b[0m     obj\u001b[38;5;241m=\u001b[39m\u001b[38;5;28mself\u001b[39m,\n\u001b[0;32m   9185\u001b[0m     keys\u001b[38;5;241m=\u001b[39mby,\n\u001b[0;32m   9186\u001b[0m     axis\u001b[38;5;241m=\u001b[39maxis,\n\u001b[0;32m   9187\u001b[0m     level\u001b[38;5;241m=\u001b[39mlevel,\n\u001b[0;32m   9188\u001b[0m     as_index\u001b[38;5;241m=\u001b[39mas_index,\n\u001b[0;32m   9189\u001b[0m     sort\u001b[38;5;241m=\u001b[39msort,\n\u001b[0;32m   9190\u001b[0m     group_keys\u001b[38;5;241m=\u001b[39mgroup_keys,\n\u001b[0;32m   9191\u001b[0m     observed\u001b[38;5;241m=\u001b[39mobserved,\n\u001b[0;32m   9192\u001b[0m     dropna\u001b[38;5;241m=\u001b[39mdropna,\n\u001b[0;32m   9193\u001b[0m )\n",
      "File \u001b[1;32mC:\\ProgramData\\anaconda3\\Lib\\site-packages\\pandas\\core\\groupby\\groupby.py:1329\u001b[0m, in \u001b[0;36mGroupBy.__init__\u001b[1;34m(self, obj, keys, axis, level, grouper, exclusions, selection, as_index, sort, group_keys, observed, dropna)\u001b[0m\n\u001b[0;32m   1326\u001b[0m \u001b[38;5;28mself\u001b[39m\u001b[38;5;241m.\u001b[39mdropna \u001b[38;5;241m=\u001b[39m dropna\n\u001b[0;32m   1328\u001b[0m \u001b[38;5;28;01mif\u001b[39;00m grouper \u001b[38;5;129;01mis\u001b[39;00m \u001b[38;5;28;01mNone\u001b[39;00m:\n\u001b[1;32m-> 1329\u001b[0m     grouper, exclusions, obj \u001b[38;5;241m=\u001b[39m get_grouper(\n\u001b[0;32m   1330\u001b[0m         obj,\n\u001b[0;32m   1331\u001b[0m         keys,\n\u001b[0;32m   1332\u001b[0m         axis\u001b[38;5;241m=\u001b[39maxis,\n\u001b[0;32m   1333\u001b[0m         level\u001b[38;5;241m=\u001b[39mlevel,\n\u001b[0;32m   1334\u001b[0m         sort\u001b[38;5;241m=\u001b[39msort,\n\u001b[0;32m   1335\u001b[0m         observed\u001b[38;5;241m=\u001b[39m\u001b[38;5;28;01mFalse\u001b[39;00m \u001b[38;5;28;01mif\u001b[39;00m observed \u001b[38;5;129;01mis\u001b[39;00m lib\u001b[38;5;241m.\u001b[39mno_default \u001b[38;5;28;01melse\u001b[39;00m observed,\n\u001b[0;32m   1336\u001b[0m         dropna\u001b[38;5;241m=\u001b[39m\u001b[38;5;28mself\u001b[39m\u001b[38;5;241m.\u001b[39mdropna,\n\u001b[0;32m   1337\u001b[0m     )\n\u001b[0;32m   1339\u001b[0m \u001b[38;5;28;01mif\u001b[39;00m observed \u001b[38;5;129;01mis\u001b[39;00m lib\u001b[38;5;241m.\u001b[39mno_default:\n\u001b[0;32m   1340\u001b[0m     \u001b[38;5;28;01mif\u001b[39;00m \u001b[38;5;28many\u001b[39m(ping\u001b[38;5;241m.\u001b[39m_passed_categorical \u001b[38;5;28;01mfor\u001b[39;00m ping \u001b[38;5;129;01min\u001b[39;00m grouper\u001b[38;5;241m.\u001b[39mgroupings):\n",
      "File \u001b[1;32mC:\\ProgramData\\anaconda3\\Lib\\site-packages\\pandas\\core\\groupby\\grouper.py:1043\u001b[0m, in \u001b[0;36mget_grouper\u001b[1;34m(obj, key, axis, level, sort, observed, validate, dropna)\u001b[0m\n\u001b[0;32m   1041\u001b[0m         in_axis, level, gpr \u001b[38;5;241m=\u001b[39m \u001b[38;5;28;01mFalse\u001b[39;00m, gpr, \u001b[38;5;28;01mNone\u001b[39;00m\n\u001b[0;32m   1042\u001b[0m     \u001b[38;5;28;01melse\u001b[39;00m:\n\u001b[1;32m-> 1043\u001b[0m         \u001b[38;5;28;01mraise\u001b[39;00m \u001b[38;5;167;01mKeyError\u001b[39;00m(gpr)\n\u001b[0;32m   1044\u001b[0m \u001b[38;5;28;01melif\u001b[39;00m \u001b[38;5;28misinstance\u001b[39m(gpr, Grouper) \u001b[38;5;129;01mand\u001b[39;00m gpr\u001b[38;5;241m.\u001b[39mkey \u001b[38;5;129;01mis\u001b[39;00m \u001b[38;5;129;01mnot\u001b[39;00m \u001b[38;5;28;01mNone\u001b[39;00m:\n\u001b[0;32m   1045\u001b[0m     \u001b[38;5;66;03m# Add key to exclusions\u001b[39;00m\n\u001b[0;32m   1046\u001b[0m     exclusions\u001b[38;5;241m.\u001b[39madd(gpr\u001b[38;5;241m.\u001b[39mkey)\n",
      "\u001b[1;31mKeyError\u001b[0m: 'year'"
     ]
    }
   ],
   "source": [
    "year_sales = df.groupby('year')['itemDescription'].count().reset_index()\n",
    "max_year = year_sales.nlargest(1, 'itemDescription')\n",
    "print(f\"The year with the maximum items sold is {max_year['year']} with {max_year['itemDescription']} items sold.\")"
   ]
  },
  {
   "cell_type": "code",
   "execution_count": 154,
   "id": "5e874f71-b636-4683-9444-53ea8af0faad",
   "metadata": {},
   "outputs": [
    {
     "data": {
      "text/plain": [
       "'C:\\\\Users\\\\dilee'"
      ]
     },
     "execution_count": 154,
     "metadata": {},
     "output_type": "execute_result"
    }
   ],
   "source": [
    "import os\n",
    "os.getcwd()\n"
   ]
  },
  {
   "cell_type": "code",
   "execution_count": 91,
   "id": "25e7888a-7abd-46e4-b56c-5dbbeb87e68d",
   "metadata": {},
   "outputs": [
    {
     "name": "stdout",
     "output_type": "stream",
     "text": [
      "df\n"
     ]
    }
   ],
   "source": [
    "print('df')"
   ]
  },
  {
   "cell_type": "code",
   "execution_count": 31,
   "id": "597d5e30-2ded-486d-85b7-0204ca28ac78",
   "metadata": {},
   "outputs": [
    {
     "name": "stdout",
     "output_type": "stream",
     "text": [
      "head\n"
     ]
    }
   ],
   "source": [
    "print('head')"
   ]
  },
  {
   "cell_type": "code",
   "execution_count": 33,
   "id": "290e8950-9f3c-4d8d-aae8-438a54662e0d",
   "metadata": {},
   "outputs": [],
   "source": [
    "import pandas as pd"
   ]
  },
  {
   "cell_type": "code",
   "execution_count": 35,
   "id": "b3f8cff1-4324-4043-8c3e-514a88b7f31b",
   "metadata": {},
   "outputs": [
    {
     "name": "stdout",
     "output_type": "stream",
     "text": [
      "pd\n"
     ]
    }
   ],
   "source": [
    "print('pd')"
   ]
  },
  {
   "cell_type": "code",
   "execution_count": 37,
   "id": "3bdceb06-3b50-4251-8df3-0a1b2d33ba68",
   "metadata": {},
   "outputs": [
    {
     "name": "stdout",
     "output_type": "stream",
     "text": [
      "       Member_number        Date        itemDescription\n",
      "0               1808  21-07-2015         tropical fruit\n",
      "1               2552  05-01-2015             whole milk\n",
      "2               2300  19-09-2015              pip fruit\n",
      "3               1187  12-12-2015       other vegetables\n",
      "4               3037  01-02-2015             whole milk\n",
      "...              ...         ...                    ...\n",
      "38760           4471  08-10-2014          sliced cheese\n",
      "38761           2022  23-02-2014                  candy\n",
      "38762           1097  16-04-2014               cake bar\n",
      "38763           1510  03-12-2014  fruit/vegetable juice\n",
      "38764           1521  26-12-2014               cat food\n",
      "\n",
      "[38765 rows x 3 columns]\n"
     ]
    }
   ],
   "source": [
    "print(df)"
   ]
  },
  {
   "cell_type": "code",
   "execution_count": 45,
   "id": "a7168b45-9a12-4401-9db8-1047abc3a993",
   "metadata": {},
   "outputs": [
    {
     "data": {
      "text/html": [
       "<div>\n",
       "<style scoped>\n",
       "    .dataframe tbody tr th:only-of-type {\n",
       "        vertical-align: middle;\n",
       "    }\n",
       "\n",
       "    .dataframe tbody tr th {\n",
       "        vertical-align: top;\n",
       "    }\n",
       "\n",
       "    .dataframe thead th {\n",
       "        text-align: right;\n",
       "    }\n",
       "</style>\n",
       "<table border=\"1\" class=\"dataframe\">\n",
       "  <thead>\n",
       "    <tr style=\"text-align: right;\">\n",
       "      <th></th>\n",
       "      <th>Member_number</th>\n",
       "      <th>Date</th>\n",
       "      <th>itemDescription</th>\n",
       "    </tr>\n",
       "  </thead>\n",
       "  <tbody>\n",
       "    <tr>\n",
       "      <th>38760</th>\n",
       "      <td>4471</td>\n",
       "      <td>08-10-2014</td>\n",
       "      <td>sliced cheese</td>\n",
       "    </tr>\n",
       "    <tr>\n",
       "      <th>38761</th>\n",
       "      <td>2022</td>\n",
       "      <td>23-02-2014</td>\n",
       "      <td>candy</td>\n",
       "    </tr>\n",
       "    <tr>\n",
       "      <th>38762</th>\n",
       "      <td>1097</td>\n",
       "      <td>16-04-2014</td>\n",
       "      <td>cake bar</td>\n",
       "    </tr>\n",
       "    <tr>\n",
       "      <th>38763</th>\n",
       "      <td>1510</td>\n",
       "      <td>03-12-2014</td>\n",
       "      <td>fruit/vegetable juice</td>\n",
       "    </tr>\n",
       "    <tr>\n",
       "      <th>38764</th>\n",
       "      <td>1521</td>\n",
       "      <td>26-12-2014</td>\n",
       "      <td>cat food</td>\n",
       "    </tr>\n",
       "  </tbody>\n",
       "</table>\n",
       "</div>"
      ],
      "text/plain": [
       "       Member_number        Date        itemDescription\n",
       "38760           4471  08-10-2014          sliced cheese\n",
       "38761           2022  23-02-2014                  candy\n",
       "38762           1097  16-04-2014               cake bar\n",
       "38763           1510  03-12-2014  fruit/vegetable juice\n",
       "38764           1521  26-12-2014               cat food"
      ]
     },
     "execution_count": 45,
     "metadata": {},
     "output_type": "execute_result"
    }
   ],
   "source": [
    "df.tail()"
   ]
  },
  {
   "cell_type": "code",
   "execution_count": 43,
   "id": "bb59fd7b-d2ab-472c-8e29-a87c05d7825f",
   "metadata": {},
   "outputs": [
    {
     "name": "stdout",
     "output_type": "stream",
     "text": [
      "The member_number with the maximum items sold is 2120    3180\n",
      "Name: Member_number, dtype: int64 with 2120    36\n",
      "Name: itemDescription, dtype: int64 items sold.\n"
     ]
    }
   ],
   "source": [
    "Member_number_sales = df.groupby('Member_number')['itemDescription'].count().reset_index()\n",
    "max_Member_number = Member_number_sales.nlargest(1, 'itemDescription')\n",
    "print(f\"The member_number with the maximum items sold is {max_Member_number['Member_number']} with {max_Member_number['itemDescription']} items sold.\")"
   ]
  },
  {
   "cell_type": "code",
   "execution_count": 49,
   "id": "4dcaafd2-05be-46ad-a264-46c382b7e277",
   "metadata": {},
   "outputs": [
    {
     "name": "stdout",
     "output_type": "stream",
     "text": [
      "The member_number with the maximum items buy is 3180 with 36 items.\n"
     ]
    }
   ],
   "source": [
    "Member_number_sales = df.groupby('Member_number')['itemDescription'].count().reset_index()\n",
    "max_Member_number = Member_number_sales.nlargest(1, 'itemDescription')\n",
    "\n",
    "# Extracting values directly\n",
    "member_number = max_Member_number.iloc[0]['Member_number']\n",
    "item_count = max_Member_number.iloc[0]['itemDescription']\n",
    "\n",
    "print(f\"The member_number with the maximum items buy is {member_number} with {item_count} items.\")\n"
   ]
  },
  {
   "cell_type": "code",
   "execution_count": 51,
   "id": "da5f3196-6cbb-4817-8458-ec62210d3863",
   "metadata": {},
   "outputs": [
    {
     "name": "stdout",
     "output_type": "stream",
     "text": [
      "       Member_number        Date        itemDescription\n",
      "0               1808  21-07-2015         tropical fruit\n",
      "1               2552  05-01-2015             whole milk\n",
      "2               2300  19-09-2015              pip fruit\n",
      "3               1187  12-12-2015       other vegetables\n",
      "4               3037  01-02-2015             whole milk\n",
      "...              ...         ...                    ...\n",
      "38760           4471  08-10-2014          sliced cheese\n",
      "38761           2022  23-02-2014                  candy\n",
      "38762           1097  16-04-2014               cake bar\n",
      "38763           1510  03-12-2014  fruit/vegetable juice\n",
      "38764           1521  26-12-2014               cat food\n",
      "\n",
      "[38765 rows x 3 columns]\n"
     ]
    }
   ],
   "source": [
    "print(df)"
   ]
  },
  {
   "cell_type": "code",
   "execution_count": 53,
   "id": "d13e2eaa-a23d-42b4-849d-16fd89e5f0ac",
   "metadata": {},
   "outputs": [],
   "source": [
    "df['Day'] = df['Date'].dt.day"
   ]
  },
  {
   "cell_type": "code",
   "execution_count": 55,
   "id": "7aeac853-afd1-4f64-884b-fff4aea16b63",
   "metadata": {},
   "outputs": [
    {
     "name": "stdout",
     "output_type": "stream",
     "text": [
      "       Member_number       Date        itemDescription  Day\n",
      "0               1808 2015-07-21         tropical fruit   21\n",
      "1               2552 2015-01-05             whole milk    5\n",
      "2               2300 2015-09-19              pip fruit   19\n",
      "3               1187 2015-12-12       other vegetables   12\n",
      "4               3037 2015-02-01             whole milk    1\n",
      "...              ...        ...                    ...  ...\n",
      "38760           4471 2014-10-08          sliced cheese    8\n",
      "38761           2022 2014-02-23                  candy   23\n",
      "38762           1097 2014-04-16               cake bar   16\n",
      "38763           1510 2014-12-03  fruit/vegetable juice    3\n",
      "38764           1521 2014-12-26               cat food   26\n",
      "\n",
      "[38765 rows x 4 columns]\n"
     ]
    }
   ],
   "source": [
    "print(df)"
   ]
  },
  {
   "cell_type": "code",
   "execution_count": 57,
   "id": "7861dc31-aaa6-4650-acfd-5da6af08ffc8",
   "metadata": {},
   "outputs": [],
   "source": [
    "df['day_name'] = df['Date'].dt.day_name()"
   ]
  },
  {
   "cell_type": "code",
   "execution_count": 59,
   "id": "55620792-0158-4fec-90c2-79909269cdd1",
   "metadata": {},
   "outputs": [
    {
     "name": "stdout",
     "output_type": "stream",
     "text": [
      "       Member_number       Date        itemDescription  Day   day_name\n",
      "0               1808 2015-07-21         tropical fruit   21    Tuesday\n",
      "1               2552 2015-01-05             whole milk    5     Monday\n",
      "2               2300 2015-09-19              pip fruit   19   Saturday\n",
      "3               1187 2015-12-12       other vegetables   12   Saturday\n",
      "4               3037 2015-02-01             whole milk    1     Sunday\n",
      "...              ...        ...                    ...  ...        ...\n",
      "38760           4471 2014-10-08          sliced cheese    8  Wednesday\n",
      "38761           2022 2014-02-23                  candy   23     Sunday\n",
      "38762           1097 2014-04-16               cake bar   16  Wednesday\n",
      "38763           1510 2014-12-03  fruit/vegetable juice    3  Wednesday\n",
      "38764           1521 2014-12-26               cat food   26     Friday\n",
      "\n",
      "[38765 rows x 5 columns]\n"
     ]
    }
   ],
   "source": [
    "print(df)"
   ]
  },
  {
   "cell_type": "code",
   "execution_count": 75,
   "id": "d9ddeaa7-4101-4664-8637-af1f90f2c65f",
   "metadata": {},
   "outputs": [
    {
     "name": "stdout",
     "output_type": "stream",
     "text": [
      "Number of unique records: 38006\n"
     ]
    }
   ],
   "source": [
    "unique_record_count = df.drop_duplicates().shape[0]\n",
    "print(f\"Number of unique records: {unique_record_count}\")"
   ]
  },
  {
   "cell_type": "code",
   "execution_count": 77,
   "id": "0378d171-1e7c-471d-a895-41efe05b83df",
   "metadata": {},
   "outputs": [
    {
     "name": "stdout",
     "output_type": "stream",
     "text": [
      "       Member_number        itemDescription\n",
      "0               1808         tropical fruit\n",
      "1               2552             whole milk\n",
      "2               2300              pip fruit\n",
      "3               1187       other vegetables\n",
      "4               3037             whole milk\n",
      "...              ...                    ...\n",
      "38760           4471          sliced cheese\n",
      "38761           2022                  candy\n",
      "38762           1097               cake bar\n",
      "38763           1510  fruit/vegetable juice\n",
      "38764           1521               cat food\n",
      "\n",
      "[34766 rows x 2 columns]\n"
     ]
    }
   ],
   "source": [
    "# Select unique combinations of 'Member_number' and 'itemDescription'\n",
    "unique_data = df[['Member_number', 'itemDescription']].drop_duplicates()\n",
    "\n",
    "print(unique_data)"
   ]
  },
  {
   "cell_type": "code",
   "execution_count": 79,
   "id": "09637e2f-8126-4282-ba61-b151d1030f3b",
   "metadata": {},
   "outputs": [
    {
     "name": "stdout",
     "output_type": "stream",
     "text": [
      "       Member_number      itemDescription  count\n",
      "0               1000          canned beer      1\n",
      "1               1000     hygiene articles      1\n",
      "2               1000      misc. beverages      1\n",
      "3               1000               pastry      1\n",
      "4               1000   pickled vegetables      1\n",
      "...              ...                  ...    ...\n",
      "34761           5000               onions      1\n",
      "34762           5000     other vegetables      1\n",
      "34763           5000      root vegetables      1\n",
      "34764           5000  semi-finished bread      1\n",
      "34765           5000                 soda      1\n",
      "\n",
      "[34766 rows x 3 columns]\n"
     ]
    }
   ],
   "source": [
    "# Group by 'Member_number' and 'itemDescription' to get unique counts\n",
    "unique_counts = df.groupby(['Member_number', 'itemDescription']).size().reset_index(name='count')\n",
    "\n",
    "print(unique_counts)\n"
   ]
  },
  {
   "cell_type": "code",
   "execution_count": 81,
   "id": "223440d1-175a-4bd0-9ba4-a1243192c5b7",
   "metadata": {},
   "outputs": [
    {
     "name": "stdout",
     "output_type": "stream",
     "text": [
      "Number of unique records: 34766\n"
     ]
    }
   ],
   "source": [
    "# Count unique records based on 'Member_number' and 'itemDescription'\n",
    "unique_record_count = df.drop_duplicates(subset=['Member_number', 'itemDescription']).shape[0]\n",
    "print(f\"Number of unique records: {unique_record_count}\")\n"
   ]
  },
  {
   "cell_type": "code",
   "execution_count": 83,
   "id": "6930f580-096e-49b8-b7d9-657ed1cbba38",
   "metadata": {},
   "outputs": [
    {
     "name": "stdout",
     "output_type": "stream",
     "text": [
      "Number of unique records: 34766\n"
     ]
    }
   ],
   "source": [
    "# Remove leading/trailing whitespace and drop duplicates for accurate count\n",
    "unique_record_count = (\n",
    "    df[['Member_number', 'itemDescription']]\n",
    "    .apply(lambda x: x.str.strip() if x.dtype == \"object\" else x)\n",
    "    .drop_duplicates()\n",
    "    .shape[0]\n",
    ")\n",
    "\n",
    "print(f\"Number of unique records: {unique_record_count}\")\n"
   ]
  },
  {
   "cell_type": "code",
   "execution_count": 61,
   "id": "5e9c6d43-7389-4171-8026-968d6496e95d",
   "metadata": {},
   "outputs": [
    {
     "name": "stdout",
     "output_type": "stream",
     "text": [
      "       Member_number       Date        itemDescription  Day   day_name\n",
      "0               1808 2015-07-21         tropical fruit   21    Tuesday\n",
      "1               2552 2015-01-05             whole milk    5     Monday\n",
      "2               2300 2015-09-19              pip fruit   19   Saturday\n",
      "3               1187 2015-12-12       other vegetables   12   Saturday\n",
      "4               3037 2015-02-01             whole milk    1     Sunday\n",
      "...              ...        ...                    ...  ...        ...\n",
      "38760           4471 2014-10-08          sliced cheese    8  Wednesday\n",
      "38761           2022 2014-02-23                  candy   23     Sunday\n",
      "38762           1097 2014-04-16               cake bar   16  Wednesday\n",
      "38763           1510 2014-12-03  fruit/vegetable juice    3  Wednesday\n",
      "38764           1521 2014-12-26               cat food   26     Friday\n",
      "\n",
      "[38765 rows x 5 columns]\n"
     ]
    }
   ],
   "source": [
    "print(df)"
   ]
  },
  {
   "cell_type": "code",
   "execution_count": 87,
   "id": "1d1b2a4c-0849-405d-9bae-524c6df32ff4",
   "metadata": {},
   "outputs": [
    {
     "ename": "KeyError",
     "evalue": "'month'",
     "output_type": "error",
     "traceback": [
      "\u001b[1;31m---------------------------------------------------------------------------\u001b[0m",
      "\u001b[1;31mKeyError\u001b[0m                                  Traceback (most recent call last)",
      "Cell \u001b[1;32mIn[87], line 1\u001b[0m\n\u001b[1;32m----> 1\u001b[0m month_sales \u001b[38;5;241m=\u001b[39m df\u001b[38;5;241m.\u001b[39mgroupby(\u001b[38;5;124m'\u001b[39m\u001b[38;5;124mmonth\u001b[39m\u001b[38;5;124m'\u001b[39m)[\u001b[38;5;124m'\u001b[39m\u001b[38;5;124mitemDescription\u001b[39m\u001b[38;5;124m'\u001b[39m]\u001b[38;5;241m.\u001b[39mcount()\u001b[38;5;241m.\u001b[39mreset_index()\n\u001b[0;32m      2\u001b[0m max_month \u001b[38;5;241m=\u001b[39m month_sales\u001b[38;5;241m.\u001b[39msort_values(by\u001b[38;5;241m=\u001b[39m\u001b[38;5;124m'\u001b[39m\u001b[38;5;124mitemDescription\u001b[39m\u001b[38;5;124m'\u001b[39m,ascending\u001b[38;5;241m=\u001b[39m\u001b[38;5;28;01mFalse\u001b[39;00m)\u001b[38;5;241m.\u001b[39miloc[\u001b[38;5;241m0\u001b[39m]\n\u001b[0;32m      3\u001b[0m \u001b[38;5;28mprint\u001b[39m(\u001b[38;5;124mf\u001b[39m\u001b[38;5;124m\"\u001b[39m\u001b[38;5;124mThe month with the maximum items sold is \u001b[39m\u001b[38;5;132;01m{\u001b[39;00mmax_month[\u001b[38;5;124m'\u001b[39m\u001b[38;5;124mmonth\u001b[39m\u001b[38;5;124m'\u001b[39m]\u001b[38;5;132;01m}\u001b[39;00m\u001b[38;5;124m with \u001b[39m\u001b[38;5;132;01m{\u001b[39;00mmax_month[\u001b[38;5;124m'\u001b[39m\u001b[38;5;124mitemDescription\u001b[39m\u001b[38;5;124m'\u001b[39m]\u001b[38;5;132;01m}\u001b[39;00m\u001b[38;5;124m items sold.\u001b[39m\u001b[38;5;124m\"\u001b[39m)\n",
      "File \u001b[1;32mC:\\ProgramData\\anaconda3\\Lib\\site-packages\\pandas\\core\\frame.py:9183\u001b[0m, in \u001b[0;36mDataFrame.groupby\u001b[1;34m(self, by, axis, level, as_index, sort, group_keys, observed, dropna)\u001b[0m\n\u001b[0;32m   9180\u001b[0m \u001b[38;5;28;01mif\u001b[39;00m level \u001b[38;5;129;01mis\u001b[39;00m \u001b[38;5;28;01mNone\u001b[39;00m \u001b[38;5;129;01mand\u001b[39;00m by \u001b[38;5;129;01mis\u001b[39;00m \u001b[38;5;28;01mNone\u001b[39;00m:\n\u001b[0;32m   9181\u001b[0m     \u001b[38;5;28;01mraise\u001b[39;00m \u001b[38;5;167;01mTypeError\u001b[39;00m(\u001b[38;5;124m\"\u001b[39m\u001b[38;5;124mYou have to supply one of \u001b[39m\u001b[38;5;124m'\u001b[39m\u001b[38;5;124mby\u001b[39m\u001b[38;5;124m'\u001b[39m\u001b[38;5;124m and \u001b[39m\u001b[38;5;124m'\u001b[39m\u001b[38;5;124mlevel\u001b[39m\u001b[38;5;124m'\u001b[39m\u001b[38;5;124m\"\u001b[39m)\n\u001b[1;32m-> 9183\u001b[0m \u001b[38;5;28;01mreturn\u001b[39;00m DataFrameGroupBy(\n\u001b[0;32m   9184\u001b[0m     obj\u001b[38;5;241m=\u001b[39m\u001b[38;5;28mself\u001b[39m,\n\u001b[0;32m   9185\u001b[0m     keys\u001b[38;5;241m=\u001b[39mby,\n\u001b[0;32m   9186\u001b[0m     axis\u001b[38;5;241m=\u001b[39maxis,\n\u001b[0;32m   9187\u001b[0m     level\u001b[38;5;241m=\u001b[39mlevel,\n\u001b[0;32m   9188\u001b[0m     as_index\u001b[38;5;241m=\u001b[39mas_index,\n\u001b[0;32m   9189\u001b[0m     sort\u001b[38;5;241m=\u001b[39msort,\n\u001b[0;32m   9190\u001b[0m     group_keys\u001b[38;5;241m=\u001b[39mgroup_keys,\n\u001b[0;32m   9191\u001b[0m     observed\u001b[38;5;241m=\u001b[39mobserved,\n\u001b[0;32m   9192\u001b[0m     dropna\u001b[38;5;241m=\u001b[39mdropna,\n\u001b[0;32m   9193\u001b[0m )\n",
      "File \u001b[1;32mC:\\ProgramData\\anaconda3\\Lib\\site-packages\\pandas\\core\\groupby\\groupby.py:1329\u001b[0m, in \u001b[0;36mGroupBy.__init__\u001b[1;34m(self, obj, keys, axis, level, grouper, exclusions, selection, as_index, sort, group_keys, observed, dropna)\u001b[0m\n\u001b[0;32m   1326\u001b[0m \u001b[38;5;28mself\u001b[39m\u001b[38;5;241m.\u001b[39mdropna \u001b[38;5;241m=\u001b[39m dropna\n\u001b[0;32m   1328\u001b[0m \u001b[38;5;28;01mif\u001b[39;00m grouper \u001b[38;5;129;01mis\u001b[39;00m \u001b[38;5;28;01mNone\u001b[39;00m:\n\u001b[1;32m-> 1329\u001b[0m     grouper, exclusions, obj \u001b[38;5;241m=\u001b[39m get_grouper(\n\u001b[0;32m   1330\u001b[0m         obj,\n\u001b[0;32m   1331\u001b[0m         keys,\n\u001b[0;32m   1332\u001b[0m         axis\u001b[38;5;241m=\u001b[39maxis,\n\u001b[0;32m   1333\u001b[0m         level\u001b[38;5;241m=\u001b[39mlevel,\n\u001b[0;32m   1334\u001b[0m         sort\u001b[38;5;241m=\u001b[39msort,\n\u001b[0;32m   1335\u001b[0m         observed\u001b[38;5;241m=\u001b[39m\u001b[38;5;28;01mFalse\u001b[39;00m \u001b[38;5;28;01mif\u001b[39;00m observed \u001b[38;5;129;01mis\u001b[39;00m lib\u001b[38;5;241m.\u001b[39mno_default \u001b[38;5;28;01melse\u001b[39;00m observed,\n\u001b[0;32m   1336\u001b[0m         dropna\u001b[38;5;241m=\u001b[39m\u001b[38;5;28mself\u001b[39m\u001b[38;5;241m.\u001b[39mdropna,\n\u001b[0;32m   1337\u001b[0m     )\n\u001b[0;32m   1339\u001b[0m \u001b[38;5;28;01mif\u001b[39;00m observed \u001b[38;5;129;01mis\u001b[39;00m lib\u001b[38;5;241m.\u001b[39mno_default:\n\u001b[0;32m   1340\u001b[0m     \u001b[38;5;28;01mif\u001b[39;00m \u001b[38;5;28many\u001b[39m(ping\u001b[38;5;241m.\u001b[39m_passed_categorical \u001b[38;5;28;01mfor\u001b[39;00m ping \u001b[38;5;129;01min\u001b[39;00m grouper\u001b[38;5;241m.\u001b[39mgroupings):\n",
      "File \u001b[1;32mC:\\ProgramData\\anaconda3\\Lib\\site-packages\\pandas\\core\\groupby\\grouper.py:1043\u001b[0m, in \u001b[0;36mget_grouper\u001b[1;34m(obj, key, axis, level, sort, observed, validate, dropna)\u001b[0m\n\u001b[0;32m   1041\u001b[0m         in_axis, level, gpr \u001b[38;5;241m=\u001b[39m \u001b[38;5;28;01mFalse\u001b[39;00m, gpr, \u001b[38;5;28;01mNone\u001b[39;00m\n\u001b[0;32m   1042\u001b[0m     \u001b[38;5;28;01melse\u001b[39;00m:\n\u001b[1;32m-> 1043\u001b[0m         \u001b[38;5;28;01mraise\u001b[39;00m \u001b[38;5;167;01mKeyError\u001b[39;00m(gpr)\n\u001b[0;32m   1044\u001b[0m \u001b[38;5;28;01melif\u001b[39;00m \u001b[38;5;28misinstance\u001b[39m(gpr, Grouper) \u001b[38;5;129;01mand\u001b[39;00m gpr\u001b[38;5;241m.\u001b[39mkey \u001b[38;5;129;01mis\u001b[39;00m \u001b[38;5;129;01mnot\u001b[39;00m \u001b[38;5;28;01mNone\u001b[39;00m:\n\u001b[0;32m   1045\u001b[0m     \u001b[38;5;66;03m# Add key to exclusions\u001b[39;00m\n\u001b[0;32m   1046\u001b[0m     exclusions\u001b[38;5;241m.\u001b[39madd(gpr\u001b[38;5;241m.\u001b[39mkey)\n",
      "\u001b[1;31mKeyError\u001b[0m: 'month'"
     ]
    }
   ],
   "source": [
    "month_sales = df.groupby('month')['itemDescription'].count().reset_index()\n",
    "max_month = month_sales.sort_values(by='itemDescription',ascending=False).iloc[0]\n",
    "print(f\"The month with the maximum items sold is {max_month['month']} with {max_month['itemDescription']} items sold.\")\n"
   ]
  },
  {
   "cell_type": "code",
   "execution_count": 101,
   "id": "742c1c2d-0490-4ccd-926b-21ef0dcb18ec",
   "metadata": {},
   "outputs": [
    {
     "data": {
      "text/html": [
       "<div>\n",
       "<style scoped>\n",
       "    .dataframe tbody tr th:only-of-type {\n",
       "        vertical-align: middle;\n",
       "    }\n",
       "\n",
       "    .dataframe tbody tr th {\n",
       "        vertical-align: top;\n",
       "    }\n",
       "\n",
       "    .dataframe thead th {\n",
       "        text-align: right;\n",
       "    }\n",
       "</style>\n",
       "<table border=\"1\" class=\"dataframe\">\n",
       "  <thead>\n",
       "    <tr style=\"text-align: right;\">\n",
       "      <th></th>\n",
       "      <th>Member_number</th>\n",
       "      <th>Date</th>\n",
       "      <th>itemDescription</th>\n",
       "      <th>Day</th>\n",
       "      <th>dayofweek</th>\n",
       "      <th>day_name</th>\n",
       "      <th>year</th>\n",
       "    </tr>\n",
       "  </thead>\n",
       "  <tbody>\n",
       "    <tr>\n",
       "      <th>0</th>\n",
       "      <td>1808</td>\n",
       "      <td>2015-07-21</td>\n",
       "      <td>tropical fruit</td>\n",
       "      <td>21</td>\n",
       "      <td>1</td>\n",
       "      <td>Tuesday</td>\n",
       "      <td>2015</td>\n",
       "    </tr>\n",
       "    <tr>\n",
       "      <th>1</th>\n",
       "      <td>2552</td>\n",
       "      <td>2015-01-05</td>\n",
       "      <td>whole milk</td>\n",
       "      <td>5</td>\n",
       "      <td>0</td>\n",
       "      <td>Monday</td>\n",
       "      <td>2015</td>\n",
       "    </tr>\n",
       "    <tr>\n",
       "      <th>2</th>\n",
       "      <td>2300</td>\n",
       "      <td>2015-09-19</td>\n",
       "      <td>pip fruit</td>\n",
       "      <td>19</td>\n",
       "      <td>5</td>\n",
       "      <td>Saturday</td>\n",
       "      <td>2015</td>\n",
       "    </tr>\n",
       "    <tr>\n",
       "      <th>3</th>\n",
       "      <td>1187</td>\n",
       "      <td>2015-12-12</td>\n",
       "      <td>other vegetables</td>\n",
       "      <td>12</td>\n",
       "      <td>5</td>\n",
       "      <td>Saturday</td>\n",
       "      <td>2015</td>\n",
       "    </tr>\n",
       "    <tr>\n",
       "      <th>4</th>\n",
       "      <td>3037</td>\n",
       "      <td>2015-02-01</td>\n",
       "      <td>whole milk</td>\n",
       "      <td>1</td>\n",
       "      <td>6</td>\n",
       "      <td>Sunday</td>\n",
       "      <td>2015</td>\n",
       "    </tr>\n",
       "  </tbody>\n",
       "</table>\n",
       "</div>"
      ],
      "text/plain": [
       "   Member_number       Date   itemDescription  Day  dayofweek  day_name  year\n",
       "0           1808 2015-07-21    tropical fruit   21          1   Tuesday  2015\n",
       "1           2552 2015-01-05        whole milk    5          0    Monday  2015\n",
       "2           2300 2015-09-19         pip fruit   19          5  Saturday  2015\n",
       "3           1187 2015-12-12  other vegetables   12          5  Saturday  2015\n",
       "4           3037 2015-02-01        whole milk    1          6    Sunday  2015"
      ]
     },
     "execution_count": 101,
     "metadata": {},
     "output_type": "execute_result"
    }
   ],
   "source": [
    "df.head()"
   ]
  },
  {
   "cell_type": "code",
   "execution_count": 103,
   "id": "00c44518-0afb-4bdd-ba50-d4fa0a5af717",
   "metadata": {},
   "outputs": [
    {
     "data": {
      "text/html": [
       "<div>\n",
       "<style scoped>\n",
       "    .dataframe tbody tr th:only-of-type {\n",
       "        vertical-align: middle;\n",
       "    }\n",
       "\n",
       "    .dataframe tbody tr th {\n",
       "        vertical-align: top;\n",
       "    }\n",
       "\n",
       "    .dataframe thead th {\n",
       "        text-align: right;\n",
       "    }\n",
       "</style>\n",
       "<table border=\"1\" class=\"dataframe\">\n",
       "  <thead>\n",
       "    <tr style=\"text-align: right;\">\n",
       "      <th></th>\n",
       "      <th>Member_number</th>\n",
       "      <th>Date</th>\n",
       "      <th>itemDescription</th>\n",
       "      <th>Day</th>\n",
       "      <th>dayofweek</th>\n",
       "      <th>day_name</th>\n",
       "      <th>year</th>\n",
       "    </tr>\n",
       "  </thead>\n",
       "  <tbody>\n",
       "    <tr>\n",
       "      <th>38760</th>\n",
       "      <td>4471</td>\n",
       "      <td>2014-10-08</td>\n",
       "      <td>sliced cheese</td>\n",
       "      <td>8</td>\n",
       "      <td>2</td>\n",
       "      <td>Wednesday</td>\n",
       "      <td>2014</td>\n",
       "    </tr>\n",
       "    <tr>\n",
       "      <th>38761</th>\n",
       "      <td>2022</td>\n",
       "      <td>2014-02-23</td>\n",
       "      <td>candy</td>\n",
       "      <td>23</td>\n",
       "      <td>6</td>\n",
       "      <td>Sunday</td>\n",
       "      <td>2014</td>\n",
       "    </tr>\n",
       "    <tr>\n",
       "      <th>38762</th>\n",
       "      <td>1097</td>\n",
       "      <td>2014-04-16</td>\n",
       "      <td>cake bar</td>\n",
       "      <td>16</td>\n",
       "      <td>2</td>\n",
       "      <td>Wednesday</td>\n",
       "      <td>2014</td>\n",
       "    </tr>\n",
       "    <tr>\n",
       "      <th>38763</th>\n",
       "      <td>1510</td>\n",
       "      <td>2014-12-03</td>\n",
       "      <td>fruit/vegetable juice</td>\n",
       "      <td>3</td>\n",
       "      <td>2</td>\n",
       "      <td>Wednesday</td>\n",
       "      <td>2014</td>\n",
       "    </tr>\n",
       "    <tr>\n",
       "      <th>38764</th>\n",
       "      <td>1521</td>\n",
       "      <td>2014-12-26</td>\n",
       "      <td>cat food</td>\n",
       "      <td>26</td>\n",
       "      <td>4</td>\n",
       "      <td>Friday</td>\n",
       "      <td>2014</td>\n",
       "    </tr>\n",
       "  </tbody>\n",
       "</table>\n",
       "</div>"
      ],
      "text/plain": [
       "       Member_number       Date        itemDescription  Day  dayofweek  \\\n",
       "38760           4471 2014-10-08          sliced cheese    8          2   \n",
       "38761           2022 2014-02-23                  candy   23          6   \n",
       "38762           1097 2014-04-16               cake bar   16          2   \n",
       "38763           1510 2014-12-03  fruit/vegetable juice    3          2   \n",
       "38764           1521 2014-12-26               cat food   26          4   \n",
       "\n",
       "        day_name  year  \n",
       "38760  Wednesday  2014  \n",
       "38761     Sunday  2014  \n",
       "38762  Wednesday  2014  \n",
       "38763  Wednesday  2014  \n",
       "38764     Friday  2014  "
      ]
     },
     "execution_count": 103,
     "metadata": {},
     "output_type": "execute_result"
    }
   ],
   "source": [
    "df.tail()"
   ]
  },
  {
   "cell_type": "code",
   "execution_count": 63,
   "id": "1b31731d-a9cd-4fc5-9f0c-b02485d5eeab",
   "metadata": {},
   "outputs": [],
   "source": [
    "df['month'] = df['Date'].dt.month"
   ]
  },
  {
   "cell_type": "code",
   "execution_count": 107,
   "id": "d6198a6b-f474-4054-85d2-33fabf99abf6",
   "metadata": {},
   "outputs": [
    {
     "name": "stdout",
     "output_type": "stream",
     "text": [
      "       Member_number       Date        itemDescription  Day  dayofweek  \\\n",
      "0               1808 2015-07-21         tropical fruit   21          1   \n",
      "1               2552 2015-01-05             whole milk    5          0   \n",
      "2               2300 2015-09-19              pip fruit   19          5   \n",
      "3               1187 2015-12-12       other vegetables   12          5   \n",
      "4               3037 2015-02-01             whole milk    1          6   \n",
      "...              ...        ...                    ...  ...        ...   \n",
      "38760           4471 2014-10-08          sliced cheese    8          2   \n",
      "38761           2022 2014-02-23                  candy   23          6   \n",
      "38762           1097 2014-04-16               cake bar   16          2   \n",
      "38763           1510 2014-12-03  fruit/vegetable juice    3          2   \n",
      "38764           1521 2014-12-26               cat food   26          4   \n",
      "\n",
      "        day_name  year  month  \n",
      "0        Tuesday  2015      7  \n",
      "1         Monday  2015      1  \n",
      "2       Saturday  2015      9  \n",
      "3       Saturday  2015     12  \n",
      "4         Sunday  2015      2  \n",
      "...          ...   ...    ...  \n",
      "38760  Wednesday  2014     10  \n",
      "38761     Sunday  2014      2  \n",
      "38762  Wednesday  2014      4  \n",
      "38763  Wednesday  2014     12  \n",
      "38764     Friday  2014     12  \n",
      "\n",
      "[38765 rows x 8 columns]\n"
     ]
    }
   ],
   "source": [
    "print(df)"
   ]
  },
  {
   "cell_type": "code",
   "execution_count": 65,
   "id": "9d6a1bb1-51f6-48bb-b5bc-97f3a2f42b0a",
   "metadata": {},
   "outputs": [],
   "source": [
    "df['season'] = df['Date'].apply(get_season)"
   ]
  },
  {
   "cell_type": "code",
   "execution_count": 69,
   "id": "01d426ca-3155-4eb1-84ac-84478c8ba430",
   "metadata": {},
   "outputs": [
    {
     "name": "stdout",
     "output_type": "stream",
     "text": [
      "       Member_number       Date        itemDescription  Day   day_name  month  \\\n",
      "0               1808 2015-07-21         tropical fruit   21    Tuesday      7   \n",
      "1               2552 2015-01-05             whole milk    5     Monday      1   \n",
      "2               2300 2015-09-19              pip fruit   19   Saturday      9   \n",
      "3               1187 2015-12-12       other vegetables   12   Saturday     12   \n",
      "4               3037 2015-02-01             whole milk    1     Sunday      2   \n",
      "...              ...        ...                    ...  ...        ...    ...   \n",
      "38760           4471 2014-10-08          sliced cheese    8  Wednesday     10   \n",
      "38761           2022 2014-02-23                  candy   23     Sunday      2   \n",
      "38762           1097 2014-04-16               cake bar   16  Wednesday      4   \n",
      "38763           1510 2014-12-03  fruit/vegetable juice    3  Wednesday     12   \n",
      "38764           1521 2014-12-26               cat food   26     Friday     12   \n",
      "\n",
      "       season  \n",
      "0      Summer  \n",
      "1      Winter  \n",
      "2      Summer  \n",
      "3      Autumn  \n",
      "4      Winter  \n",
      "...       ...  \n",
      "38760  Autumn  \n",
      "38761  Winter  \n",
      "38762  Spring  \n",
      "38763  Autumn  \n",
      "38764  Winter  \n",
      "\n",
      "[38765 rows x 7 columns]\n"
     ]
    }
   ],
   "source": [
    "print(df)"
   ]
  },
  {
   "cell_type": "code",
   "execution_count": 113,
   "id": "3152bb51-a793-418d-9783-6f9ae59b0342",
   "metadata": {},
   "outputs": [],
   "source": [
    "del df['dayofweek']"
   ]
  },
  {
   "cell_type": "code",
   "execution_count": 71,
   "id": "84731de0-0d27-4b69-9b30-aee502c12f2c",
   "metadata": {},
   "outputs": [
    {
     "name": "stdout",
     "output_type": "stream",
     "text": [
      "       Member_number       Date        itemDescription  Day   day_name  month  \\\n",
      "0               1808 2015-07-21         tropical fruit   21    Tuesday      7   \n",
      "1               2552 2015-01-05             whole milk    5     Monday      1   \n",
      "2               2300 2015-09-19              pip fruit   19   Saturday      9   \n",
      "3               1187 2015-12-12       other vegetables   12   Saturday     12   \n",
      "4               3037 2015-02-01             whole milk    1     Sunday      2   \n",
      "...              ...        ...                    ...  ...        ...    ...   \n",
      "38760           4471 2014-10-08          sliced cheese    8  Wednesday     10   \n",
      "38761           2022 2014-02-23                  candy   23     Sunday      2   \n",
      "38762           1097 2014-04-16               cake bar   16  Wednesday      4   \n",
      "38763           1510 2014-12-03  fruit/vegetable juice    3  Wednesday     12   \n",
      "38764           1521 2014-12-26               cat food   26     Friday     12   \n",
      "\n",
      "       season  \n",
      "0      Summer  \n",
      "1      Winter  \n",
      "2      Summer  \n",
      "3      Autumn  \n",
      "4      Winter  \n",
      "...       ...  \n",
      "38760  Autumn  \n",
      "38761  Winter  \n",
      "38762  Spring  \n",
      "38763  Autumn  \n",
      "38764  Winter  \n",
      "\n",
      "[38765 rows x 7 columns]\n"
     ]
    }
   ],
   "source": [
    "print(df)"
   ]
  },
  {
   "cell_type": "code",
   "execution_count": 117,
   "id": "a709258d-ec61-428d-bbfa-dc92a942e221",
   "metadata": {},
   "outputs": [],
   "source": [
    "df['country'] = 'usa'"
   ]
  },
  {
   "cell_type": "code",
   "execution_count": 119,
   "id": "4d90356e-65b3-47d6-bd69-5caebaf47a08",
   "metadata": {},
   "outputs": [
    {
     "name": "stdout",
     "output_type": "stream",
     "text": [
      "       Member_number       Date        itemDescription  Day   day_name  year  \\\n",
      "0               1808 2015-07-21         tropical fruit   21    Tuesday  2015   \n",
      "1               2552 2015-01-05             whole milk    5     Monday  2015   \n",
      "2               2300 2015-09-19              pip fruit   19   Saturday  2015   \n",
      "3               1187 2015-12-12       other vegetables   12   Saturday  2015   \n",
      "4               3037 2015-02-01             whole milk    1     Sunday  2015   \n",
      "...              ...        ...                    ...  ...        ...   ...   \n",
      "38760           4471 2014-10-08          sliced cheese    8  Wednesday  2014   \n",
      "38761           2022 2014-02-23                  candy   23     Sunday  2014   \n",
      "38762           1097 2014-04-16               cake bar   16  Wednesday  2014   \n",
      "38763           1510 2014-12-03  fruit/vegetable juice    3  Wednesday  2014   \n",
      "38764           1521 2014-12-26               cat food   26     Friday  2014   \n",
      "\n",
      "       month  season country  \n",
      "0          7  Summer     usa  \n",
      "1          1  Winter     usa  \n",
      "2          9  Summer     usa  \n",
      "3         12  Autumn     usa  \n",
      "4          2  Winter     usa  \n",
      "...      ...     ...     ...  \n",
      "38760     10  Autumn     usa  \n",
      "38761      2  Winter     usa  \n",
      "38762      4  Spring     usa  \n",
      "38763     12  Autumn     usa  \n",
      "38764     12  Winter     usa  \n",
      "\n",
      "[38765 rows x 9 columns]\n"
     ]
    }
   ],
   "source": [
    "print(df)"
   ]
  },
  {
   "cell_type": "code",
   "execution_count": 121,
   "id": "d90d9fe4-0e81-447f-96db-134b674513ee",
   "metadata": {},
   "outputs": [],
   "source": [
    "del df['country']"
   ]
  },
  {
   "cell_type": "code",
   "execution_count": 123,
   "id": "b216f5dd-5146-4795-9cef-96c76d8f8eb2",
   "metadata": {},
   "outputs": [
    {
     "name": "stdout",
     "output_type": "stream",
     "text": [
      "       Member_number       Date        itemDescription  Day   day_name  year  \\\n",
      "0               1808 2015-07-21         tropical fruit   21    Tuesday  2015   \n",
      "1               2552 2015-01-05             whole milk    5     Monday  2015   \n",
      "2               2300 2015-09-19              pip fruit   19   Saturday  2015   \n",
      "3               1187 2015-12-12       other vegetables   12   Saturday  2015   \n",
      "4               3037 2015-02-01             whole milk    1     Sunday  2015   \n",
      "...              ...        ...                    ...  ...        ...   ...   \n",
      "38760           4471 2014-10-08          sliced cheese    8  Wednesday  2014   \n",
      "38761           2022 2014-02-23                  candy   23     Sunday  2014   \n",
      "38762           1097 2014-04-16               cake bar   16  Wednesday  2014   \n",
      "38763           1510 2014-12-03  fruit/vegetable juice    3  Wednesday  2014   \n",
      "38764           1521 2014-12-26               cat food   26     Friday  2014   \n",
      "\n",
      "       month  season  \n",
      "0          7  Summer  \n",
      "1          1  Winter  \n",
      "2          9  Summer  \n",
      "3         12  Autumn  \n",
      "4          2  Winter  \n",
      "...      ...     ...  \n",
      "38760     10  Autumn  \n",
      "38761      2  Winter  \n",
      "38762      4  Spring  \n",
      "38763     12  Autumn  \n",
      "38764     12  Winter  \n",
      "\n",
      "[38765 rows x 8 columns]\n"
     ]
    }
   ],
   "source": [
    "print(df)"
   ]
  },
  {
   "cell_type": "code",
   "execution_count": 73,
   "id": "1db62eee-cd6c-4d8a-8989-6880ce325b99",
   "metadata": {},
   "outputs": [],
   "source": [
    "df['Date'] = pd.to_datetime(df['Date'])"
   ]
  },
  {
   "cell_type": "code",
   "execution_count": 93,
   "id": "c07801f9-334c-40fd-81f0-78bc815300df",
   "metadata": {},
   "outputs": [
    {
     "name": "stdout",
     "output_type": "stream",
     "text": [
      "       Member_number       Date        itemDescription  Day   day_name  month  \\\n",
      "0               1808 2015-07-21         tropical fruit   21    Tuesday      7   \n",
      "1               2552 2015-01-05             whole milk    5     Monday      1   \n",
      "2               2300 2015-09-19              pip fruit   19   Saturday      9   \n",
      "3               1187 2015-12-12       other vegetables   12   Saturday     12   \n",
      "4               3037 2015-02-01             whole milk    1     Sunday      2   \n",
      "...              ...        ...                    ...  ...        ...    ...   \n",
      "38760           4471 2014-10-08          sliced cheese    8  Wednesday     10   \n",
      "38761           2022 2014-02-23                  candy   23     Sunday      2   \n",
      "38762           1097 2014-04-16               cake bar   16  Wednesday      4   \n",
      "38763           1510 2014-12-03  fruit/vegetable juice    3  Wednesday     12   \n",
      "38764           1521 2014-12-26               cat food   26     Friday     12   \n",
      "\n",
      "       season  \n",
      "0      Summer  \n",
      "1      Winter  \n",
      "2      Summer  \n",
      "3      Autumn  \n",
      "4      Winter  \n",
      "...       ...  \n",
      "38760  Autumn  \n",
      "38761  Winter  \n",
      "38762  Spring  \n",
      "38763  Autumn  \n",
      "38764  Winter  \n",
      "\n",
      "[38765 rows x 7 columns]\n"
     ]
    }
   ],
   "source": [
    "print(df)"
   ]
  },
  {
   "cell_type": "code",
   "execution_count": 95,
   "id": "28e75c9c-ecb1-4218-9b10-828cc96eb796",
   "metadata": {},
   "outputs": [],
   "source": [
    "df['Year'] = df['Date'].dt.day"
   ]
  },
  {
   "cell_type": "code",
   "execution_count": 97,
   "id": "97881f79-b448-4f2f-926d-90a786feb1fc",
   "metadata": {},
   "outputs": [
    {
     "name": "stdout",
     "output_type": "stream",
     "text": [
      "       Member_number       Date        itemDescription  Day   day_name  month  \\\n",
      "0               1808 2015-07-21         tropical fruit   21    Tuesday      7   \n",
      "1               2552 2015-01-05             whole milk    5     Monday      1   \n",
      "2               2300 2015-09-19              pip fruit   19   Saturday      9   \n",
      "3               1187 2015-12-12       other vegetables   12   Saturday     12   \n",
      "4               3037 2015-02-01             whole milk    1     Sunday      2   \n",
      "...              ...        ...                    ...  ...        ...    ...   \n",
      "38760           4471 2014-10-08          sliced cheese    8  Wednesday     10   \n",
      "38761           2022 2014-02-23                  candy   23     Sunday      2   \n",
      "38762           1097 2014-04-16               cake bar   16  Wednesday      4   \n",
      "38763           1510 2014-12-03  fruit/vegetable juice    3  Wednesday     12   \n",
      "38764           1521 2014-12-26               cat food   26     Friday     12   \n",
      "\n",
      "       season  Year  \n",
      "0      Summer    21  \n",
      "1      Winter     5  \n",
      "2      Summer    19  \n",
      "3      Autumn    12  \n",
      "4      Winter     1  \n",
      "...       ...   ...  \n",
      "38760  Autumn     8  \n",
      "38761  Winter    23  \n",
      "38762  Spring    16  \n",
      "38763  Autumn     3  \n",
      "38764  Winter    26  \n",
      "\n",
      "[38765 rows x 8 columns]\n"
     ]
    }
   ],
   "source": [
    "print(df)"
   ]
  },
  {
   "cell_type": "code",
   "execution_count": null,
   "id": "04b659f8-5a7b-42c7-ad45-272e9c1e6eb8",
   "metadata": {},
   "outputs": [],
   "source": []
  },
  {
   "cell_type": "code",
   "execution_count": 129,
   "id": "9b16f891-8239-4545-b145-3aef229ce224",
   "metadata": {},
   "outputs": [
    {
     "ename": "AttributeError",
     "evalue": "'DataFrame' object has no attribute 'details'",
     "output_type": "error",
     "traceback": [
      "\u001b[1;31m---------------------------------------------------------------------------\u001b[0m",
      "\u001b[1;31mAttributeError\u001b[0m                            Traceback (most recent call last)",
      "\u001b[1;32m~\\AppData\\Local\\Temp\\ipykernel_36248\\994449464.py\u001b[0m in \u001b[0;36m?\u001b[1;34m()\u001b[0m\n\u001b[1;32m----> 1\u001b[1;33m \u001b[0mdf\u001b[0m\u001b[1;33m.\u001b[0m\u001b[0mdetails\u001b[0m\u001b[1;33m(\u001b[0m\u001b[1;33m)\u001b[0m\u001b[1;33m\u001b[0m\u001b[1;33m\u001b[0m\u001b[0m\n\u001b[0m",
      "\u001b[1;32mC:\\ProgramData\\anaconda3\\Lib\\site-packages\\pandas\\core\\generic.py\u001b[0m in \u001b[0;36m?\u001b[1;34m(self, name)\u001b[0m\n\u001b[0;32m   6295\u001b[0m             \u001b[1;32mand\u001b[0m \u001b[0mname\u001b[0m \u001b[1;32mnot\u001b[0m \u001b[1;32min\u001b[0m \u001b[0mself\u001b[0m\u001b[1;33m.\u001b[0m\u001b[0m_accessors\u001b[0m\u001b[1;33m\u001b[0m\u001b[1;33m\u001b[0m\u001b[0m\n\u001b[0;32m   6296\u001b[0m             \u001b[1;32mand\u001b[0m \u001b[0mself\u001b[0m\u001b[1;33m.\u001b[0m\u001b[0m_info_axis\u001b[0m\u001b[1;33m.\u001b[0m\u001b[0m_can_hold_identifiers_and_holds_name\u001b[0m\u001b[1;33m(\u001b[0m\u001b[0mname\u001b[0m\u001b[1;33m)\u001b[0m\u001b[1;33m\u001b[0m\u001b[1;33m\u001b[0m\u001b[0m\n\u001b[0;32m   6297\u001b[0m         \u001b[1;33m)\u001b[0m\u001b[1;33m:\u001b[0m\u001b[1;33m\u001b[0m\u001b[1;33m\u001b[0m\u001b[0m\n\u001b[0;32m   6298\u001b[0m             \u001b[1;32mreturn\u001b[0m \u001b[0mself\u001b[0m\u001b[1;33m[\u001b[0m\u001b[0mname\u001b[0m\u001b[1;33m]\u001b[0m\u001b[1;33m\u001b[0m\u001b[1;33m\u001b[0m\u001b[0m\n\u001b[1;32m-> 6299\u001b[1;33m         \u001b[1;32mreturn\u001b[0m \u001b[0mobject\u001b[0m\u001b[1;33m.\u001b[0m\u001b[0m__getattribute__\u001b[0m\u001b[1;33m(\u001b[0m\u001b[0mself\u001b[0m\u001b[1;33m,\u001b[0m \u001b[0mname\u001b[0m\u001b[1;33m)\u001b[0m\u001b[1;33m\u001b[0m\u001b[1;33m\u001b[0m\u001b[0m\n\u001b[0m",
      "\u001b[1;31mAttributeError\u001b[0m: 'DataFrame' object has no attribute 'details'"
     ]
    }
   ],
   "source": [
    "df.details()"
   ]
  },
  {
   "cell_type": "code",
   "execution_count": 99,
   "id": "5b2f4937-9138-4669-abcd-c7a5058f6055",
   "metadata": {},
   "outputs": [
    {
     "data": {
      "text/html": [
       "<div>\n",
       "<style scoped>\n",
       "    .dataframe tbody tr th:only-of-type {\n",
       "        vertical-align: middle;\n",
       "    }\n",
       "\n",
       "    .dataframe tbody tr th {\n",
       "        vertical-align: top;\n",
       "    }\n",
       "\n",
       "    .dataframe thead th {\n",
       "        text-align: right;\n",
       "    }\n",
       "</style>\n",
       "<table border=\"1\" class=\"dataframe\">\n",
       "  <thead>\n",
       "    <tr style=\"text-align: right;\">\n",
       "      <th></th>\n",
       "      <th>Member_number</th>\n",
       "      <th>Date</th>\n",
       "      <th>Day</th>\n",
       "      <th>month</th>\n",
       "      <th>Year</th>\n",
       "    </tr>\n",
       "  </thead>\n",
       "  <tbody>\n",
       "    <tr>\n",
       "      <th>count</th>\n",
       "      <td>38765.000000</td>\n",
       "      <td>38765</td>\n",
       "      <td>38765.000000</td>\n",
       "      <td>38765.000000</td>\n",
       "      <td>38765.000000</td>\n",
       "    </tr>\n",
       "    <tr>\n",
       "      <th>mean</th>\n",
       "      <td>3003.641868</td>\n",
       "      <td>2015-01-09 18:17:12.498387712</td>\n",
       "      <td>15.743196</td>\n",
       "      <td>6.487605</td>\n",
       "      <td>15.743196</td>\n",
       "    </tr>\n",
       "    <tr>\n",
       "      <th>min</th>\n",
       "      <td>1000.000000</td>\n",
       "      <td>2014-01-01 00:00:00</td>\n",
       "      <td>1.000000</td>\n",
       "      <td>1.000000</td>\n",
       "      <td>1.000000</td>\n",
       "    </tr>\n",
       "    <tr>\n",
       "      <th>25%</th>\n",
       "      <td>2002.000000</td>\n",
       "      <td>2014-07-12 00:00:00</td>\n",
       "      <td>8.000000</td>\n",
       "      <td>4.000000</td>\n",
       "      <td>8.000000</td>\n",
       "    </tr>\n",
       "    <tr>\n",
       "      <th>50%</th>\n",
       "      <td>3005.000000</td>\n",
       "      <td>2015-01-21 00:00:00</td>\n",
       "      <td>16.000000</td>\n",
       "      <td>6.000000</td>\n",
       "      <td>16.000000</td>\n",
       "    </tr>\n",
       "    <tr>\n",
       "      <th>75%</th>\n",
       "      <td>4007.000000</td>\n",
       "      <td>2015-07-10 00:00:00</td>\n",
       "      <td>23.000000</td>\n",
       "      <td>9.000000</td>\n",
       "      <td>23.000000</td>\n",
       "    </tr>\n",
       "    <tr>\n",
       "      <th>max</th>\n",
       "      <td>5000.000000</td>\n",
       "      <td>2015-12-30 00:00:00</td>\n",
       "      <td>31.000000</td>\n",
       "      <td>12.000000</td>\n",
       "      <td>31.000000</td>\n",
       "    </tr>\n",
       "    <tr>\n",
       "      <th>std</th>\n",
       "      <td>1153.611031</td>\n",
       "      <td>NaN</td>\n",
       "      <td>8.816814</td>\n",
       "      <td>3.419042</td>\n",
       "      <td>8.816814</td>\n",
       "    </tr>\n",
       "  </tbody>\n",
       "</table>\n",
       "</div>"
      ],
      "text/plain": [
       "       Member_number                           Date           Day  \\\n",
       "count   38765.000000                          38765  38765.000000   \n",
       "mean     3003.641868  2015-01-09 18:17:12.498387712     15.743196   \n",
       "min      1000.000000            2014-01-01 00:00:00      1.000000   \n",
       "25%      2002.000000            2014-07-12 00:00:00      8.000000   \n",
       "50%      3005.000000            2015-01-21 00:00:00     16.000000   \n",
       "75%      4007.000000            2015-07-10 00:00:00     23.000000   \n",
       "max      5000.000000            2015-12-30 00:00:00     31.000000   \n",
       "std      1153.611031                            NaN      8.816814   \n",
       "\n",
       "              month          Year  \n",
       "count  38765.000000  38765.000000  \n",
       "mean       6.487605     15.743196  \n",
       "min        1.000000      1.000000  \n",
       "25%        4.000000      8.000000  \n",
       "50%        6.000000     16.000000  \n",
       "75%        9.000000     23.000000  \n",
       "max       12.000000     31.000000  \n",
       "std        3.419042      8.816814  "
      ]
     },
     "execution_count": 99,
     "metadata": {},
     "output_type": "execute_result"
    }
   ],
   "source": [
    "df.describe()"
   ]
  },
  {
   "cell_type": "code",
   "execution_count": 133,
   "id": "96aa4f17-0311-45c1-8a4a-35077244faf8",
   "metadata": {},
   "outputs": [
    {
     "ename": "SyntaxError",
     "evalue": "invalid syntax (1540984007.py, line 1)",
     "output_type": "error",
     "traceback": [
      "\u001b[1;36m  Cell \u001b[1;32mIn[133], line 1\u001b[1;36m\u001b[0m\n\u001b[1;33m    df..fillna()\u001b[0m\n\u001b[1;37m       ^\u001b[0m\n\u001b[1;31mSyntaxError\u001b[0m\u001b[1;31m:\u001b[0m invalid syntax\n"
     ]
    }
   ],
   "source": [
    "df..fillna()"
   ]
  },
  {
   "cell_type": "code",
   "execution_count": 135,
   "id": "2cfc5947-3d63-4b0b-a702-3f1ca6a578ce",
   "metadata": {},
   "outputs": [
    {
     "ename": "SyntaxError",
     "evalue": "invalid syntax (1827220684.py, line 1)",
     "output_type": "error",
     "traceback": [
      "\u001b[1;36m  Cell \u001b[1;32mIn[135], line 1\u001b[1;36m\u001b[0m\n\u001b[1;33m    .fillna()\u001b[0m\n\u001b[1;37m    ^\u001b[0m\n\u001b[1;31mSyntaxError\u001b[0m\u001b[1;31m:\u001b[0m invalid syntax\n"
     ]
    }
   ],
   "source": [
    ".fillna()"
   ]
  },
  {
   "cell_type": "code",
   "execution_count": 137,
   "id": "2e2b93cc-8a27-435f-aebd-572b2f10ed8d",
   "metadata": {},
   "outputs": [
    {
     "name": "stdout",
     "output_type": "stream",
     "text": [
      "The month with the maximum items sold is 8 with 3496 items sold.\n"
     ]
    }
   ],
   "source": [
    "month_sales = df.groupby('month')['itemDescription'].count().reset_index()\n",
    "max_month = month_sales.sort_values(by='itemDescription',ascending=False).iloc[0]\n",
    "print(f\"The month with the maximum items sold is {max_month['month']} with {max_month['itemDescription']} items sold.\")\n"
   ]
  },
  {
   "cell_type": "code",
   "execution_count": 139,
   "id": "3b847766-4357-45e3-b0d7-9abef0795689",
   "metadata": {},
   "outputs": [
    {
     "name": "stdout",
     "output_type": "stream",
     "text": [
      "The Day with the maximum items sold is 3 with 1393 items sold.\n"
     ]
    }
   ],
   "source": [
    "Day_sales = df.groupby('Day')['itemDescription'].count().reset_index()\n",
    "max_Day = Day_sales.sort_values(by='itemDescription',ascending=False).iloc[0]\n",
    "print(f\"The Day with the maximum items sold is {max_Day['Day']} with {max_Day['itemDescription']} items sold.\")"
   ]
  },
  {
   "cell_type": "code",
   "execution_count": 141,
   "id": "576013ff-50b5-43a7-8de3-26731da0da54",
   "metadata": {},
   "outputs": [
    {
     "name": "stdout",
     "output_type": "stream",
     "text": [
      "The total items sold in 2014 is 18277\n"
     ]
    }
   ],
   "source": [
    "# Filter the DataFrame for the year 2014\n",
    "df_2014 = df[df['year'] == 2014]\n",
    "\n",
    "# Group by 'year' and count 'itemDescription'\n",
    "year_sales_2014 = df_2014.groupby('year')['itemDescription'].count().reset_index()\n",
    "\n",
    "# Since there's only 2014 in the filtered data, it will return only that year's count\n",
    "print(f\"The total items sold in 2014 is {year_sales_2014.iloc[0]['itemDescription']}\")"
   ]
  },
  {
   "cell_type": "code",
   "execution_count": 145,
   "id": "278ce8bb-5040-4434-8841-7216f11bba2f",
   "metadata": {},
   "outputs": [
    {
     "name": "stdout",
     "output_type": "stream",
     "text": [
      "The item with the highest sales in 2014 is whole milk with 1038 sales.\n"
     ]
    }
   ],
   "source": [
    "import pandas as pd\n",
    "\n",
    "# Assuming your DataFrame is named df\n",
    "# Step 1: Filter for the year 2014\n",
    "df_2014 = df[df['year'] == 2014]\n",
    "\n",
    "# Step 2: Group by 'itemDescription' and count occurrences\n",
    "item_counts = df_2014['itemDescription'].value_counts().reset_index()\n",
    "item_counts.columns = ['itemDescription', 'ITEM_COUNT']\n",
    "\n",
    "# Step 3: Get the item with the highest count\n",
    "top_item = item_counts.nlargest(1, 'ITEM_COUNT')\n",
    "\n",
    "# Print the result\n",
    "print(f\"The item with the highest sales in 2014 is {top_item.iloc[0]['itemDescription']} with {top_item.iloc[0]['ITEM_COUNT']} sales.\")\n"
   ]
  },
  {
   "cell_type": "code",
   "execution_count": 149,
   "id": "ff3b9905-88ad-4746-b1b7-4ab1aabb423a",
   "metadata": {},
   "outputs": [
    {
     "name": "stdout",
     "output_type": "stream",
     "text": [
      "The item with the highest sales in 2014 is whole milk with 1464 sales.\n"
     ]
    }
   ],
   "source": [
    "import pandas as pd\n",
    "\n",
    "# Assuming your DataFrame is named df\n",
    "# Step 1: Filter for the year 2015\n",
    "df_2015 = df[df['year'] == 2015]\n",
    "\n",
    "# Step 2: Group by 'itemDescription' and count occurrences\n",
    "item_counts = df_2015['itemDescription'].value_counts().reset_index()\n",
    "item_counts.columns = ['itemDescription', 'ITEM_COUNT']\n",
    "\n",
    "# Step 3: Get the item with the highest count\n",
    "top_item = item_counts.nlargest(1, 'ITEM_COUNT')\n",
    "\n",
    "# Print the result\n",
    "print(f\"The item with the highest sales in 2015 is {top_item.iloc[0]['itemDescription']} with {top_item.iloc[0]['ITEM_COUNT']} sales.\")\n"
   ]
  },
  {
   "cell_type": "code",
   "execution_count": 151,
   "id": "8a2441dd-32c8-4dab-8633-df71251edbdb",
   "metadata": {},
   "outputs": [
    {
     "name": "stdout",
     "output_type": "stream",
     "text": [
      "The member_number with the maximum items sold is 2120    3180\n",
      "Name: Member_number, dtype: int64 with 2120    36\n",
      "Name: itemDescription, dtype: int64 items sold.\n"
     ]
    }
   ],
   "source": [
    "Member_number_sales = df.groupby('Member_number')['itemDescription'].count().reset_index()\n",
    "max_Member_number = Member_number_sales.nlargest(1, 'itemDescription')\n",
    "print(f\"The member_number with the maximum items sold is {max_Member_number['Member_number']} with {max_Member_number['itemDescription']} items sold.\")\n",
    "\n",
    "\n"
   ]
  },
  {
   "cell_type": "code",
   "execution_count": 161,
   "id": "166addb6-7589-4450-a84e-3599f13a04cb",
   "metadata": {},
   "outputs": [
    {
     "name": "stdout",
     "output_type": "stream",
     "text": [
      "The member_number with the maximum items sold is 3180 with 36 items sold.\n"
     ]
    }
   ],
   "source": [
    "import pandas as pd\n",
    "\n",
    "# Assuming df is your DataFrame\n",
    "# Group by 'member_number' and count the occurrences\n",
    "Member_number_sales = df.groupby('Member_number')['itemDescription'].count().reset_index()\n",
    "\n",
    "# Sort by 'item_count' (the count of items sold) in descending order\n",
    "Member_number_sales = Member_number_sales.sort_values(by='itemDescription', ascending=False)\n",
    "\n",
    "# Select the top row (the member with the most items sold)\n",
    "top_Member = Member_number_sales.iloc[0]\n",
    "\n",
    "# Print the result\n",
    "print(f\"The member_number with the maximum items sold is {top_Member['Member_number']} with {top_Member['itemDescription']} items sold.\")\n"
   ]
  },
  {
   "cell_type": "code",
   "execution_count": 103,
   "id": "2839c8c4-31ec-4658-8ddc-ca5f062943f3",
   "metadata": {},
   "outputs": [
    {
     "name": "stdout",
     "output_type": "stream",
     "text": [
      "       Member_number       Date        itemDescription  Day   day_name  month  \\\n",
      "0               1808 2015-07-21         tropical fruit   21    Tuesday      7   \n",
      "1               2552 2015-01-05             whole milk    5     Monday      1   \n",
      "2               2300 2015-09-19              pip fruit   19   Saturday      9   \n",
      "3               1187 2015-12-12       other vegetables   12   Saturday     12   \n",
      "4               3037 2015-02-01             whole milk    1     Sunday      2   \n",
      "...              ...        ...                    ...  ...        ...    ...   \n",
      "38760           4471 2014-10-08          sliced cheese    8  Wednesday     10   \n",
      "38761           2022 2014-02-23                  candy   23     Sunday      2   \n",
      "38762           1097 2014-04-16               cake bar   16  Wednesday      4   \n",
      "38763           1510 2014-12-03  fruit/vegetable juice    3  Wednesday     12   \n",
      "38764           1521 2014-12-26               cat food   26     Friday     12   \n",
      "\n",
      "       season  Year  \n",
      "0      Summer    21  \n",
      "1      Winter     5  \n",
      "2      Summer    19  \n",
      "3      Autumn    12  \n",
      "4      Winter     1  \n",
      "...       ...   ...  \n",
      "38760  Autumn     8  \n",
      "38761  Winter    23  \n",
      "38762  Spring    16  \n",
      "38763  Autumn     3  \n",
      "38764  Winter    26  \n",
      "\n",
      "[38765 rows x 8 columns]\n"
     ]
    }
   ],
   "source": [
    "print(df)"
   ]
  },
  {
   "cell_type": "code",
   "execution_count": 165,
   "id": "02797d8c-3a19-4f8f-b737-ae39ab64931e",
   "metadata": {},
   "outputs": [
    {
     "name": "stdout",
     "output_type": "stream",
     "text": [
      "The season with the maximum items sold is Summer with 10109 items sold.\n"
     ]
    }
   ],
   "source": [
    "import pandas as pd\n",
    "\n",
    "# Assuming df is your DataFrame\n",
    "\n",
    "# Group by 'purchase season' and count the occurrences of 'itemdescription'\n",
    "season_sales = df.groupby('season')['itemDescription'].count().reset_index()\n",
    "\n",
    "# Sort by 'item_count' (the count of items sold in each season) in descending order\n",
    "season_sales = season_sales.sort_values(by='itemDescription', ascending=False)\n",
    "\n",
    "# Select the top row (the season with the most items sold)\n",
    "top_season = season_sales.iloc[0]\n",
    "\n",
    "# Print the result\n",
    "print(f\"The season with the maximum items sold is {top_season['season']} with {top_season['itemDescription']} items sold.\")\n"
   ]
  },
  {
   "cell_type": "code",
   "execution_count": 167,
   "id": "c0ed204a-26d3-442a-b9a0-4a0427e71e71",
   "metadata": {},
   "outputs": [
    {
     "name": "stdout",
     "output_type": "stream",
     "text": [
      "The day of the week with the maximum items sold is Thursday with 5620 items sold.\n"
     ]
    }
   ],
   "source": [
    "import pandas as pd\n",
    "\n",
    "# Assuming df is your DataFrame\n",
    "\n",
    "# Group by 'purchase dow' and count the occurrences of 'itemdescription'\n",
    "dow_sales = df.groupby('day_name')['itemDescription'].count().reset_index()\n",
    "\n",
    "# Sort by 'item_count' (the count of items sold on each day of the week) in descending order\n",
    "dow_sales = dow_sales.sort_values(by='itemDescription', ascending=False)\n",
    "\n",
    "# Select the top row (the day of the week with the most items sold)\n",
    "top_dow = dow_sales.iloc[0]\n",
    "\n",
    "# Print the result\n",
    "print(f\"The day of the week with the maximum items sold is {top_dow['day_name']} with {top_dow['itemDescription']} items sold.\")\n"
   ]
  },
  {
   "cell_type": "code",
   "execution_count": 21,
   "id": "6a38b8ac-31f8-4e0a-a032-a0a584d81858",
   "metadata": {},
   "outputs": [
    {
     "data": {
      "text/html": [
       "<div>\n",
       "<style scoped>\n",
       "    .dataframe tbody tr th:only-of-type {\n",
       "        vertical-align: middle;\n",
       "    }\n",
       "\n",
       "    .dataframe tbody tr th {\n",
       "        vertical-align: top;\n",
       "    }\n",
       "\n",
       "    .dataframe thead th {\n",
       "        text-align: right;\n",
       "    }\n",
       "</style>\n",
       "<table border=\"1\" class=\"dataframe\">\n",
       "  <thead>\n",
       "    <tr style=\"text-align: right;\">\n",
       "      <th></th>\n",
       "      <th>Member_number</th>\n",
       "      <th>Date</th>\n",
       "      <th>itemDescription</th>\n",
       "    </tr>\n",
       "  </thead>\n",
       "  <tbody>\n",
       "    <tr>\n",
       "      <th>38760</th>\n",
       "      <td>4471</td>\n",
       "      <td>08-10-2014</td>\n",
       "      <td>sliced cheese</td>\n",
       "    </tr>\n",
       "    <tr>\n",
       "      <th>38761</th>\n",
       "      <td>2022</td>\n",
       "      <td>23-02-2014</td>\n",
       "      <td>candy</td>\n",
       "    </tr>\n",
       "    <tr>\n",
       "      <th>38762</th>\n",
       "      <td>1097</td>\n",
       "      <td>16-04-2014</td>\n",
       "      <td>cake bar</td>\n",
       "    </tr>\n",
       "    <tr>\n",
       "      <th>38763</th>\n",
       "      <td>1510</td>\n",
       "      <td>03-12-2014</td>\n",
       "      <td>fruit/vegetable juice</td>\n",
       "    </tr>\n",
       "    <tr>\n",
       "      <th>38764</th>\n",
       "      <td>1521</td>\n",
       "      <td>26-12-2014</td>\n",
       "      <td>cat food</td>\n",
       "    </tr>\n",
       "  </tbody>\n",
       "</table>\n",
       "</div>"
      ],
      "text/plain": [
       "       Member_number        Date        itemDescription\n",
       "38760           4471  08-10-2014          sliced cheese\n",
       "38761           2022  23-02-2014                  candy\n",
       "38762           1097  16-04-2014               cake bar\n",
       "38763           1510  03-12-2014  fruit/vegetable juice\n",
       "38764           1521  26-12-2014               cat food"
      ]
     },
     "execution_count": 21,
     "metadata": {},
     "output_type": "execute_result"
    }
   ],
   "source": [
    "df.tail()"
   ]
  },
  {
   "cell_type": "code",
   "execution_count": 27,
   "id": "84aa1932-bab0-44cd-b5d9-2aa9323ac805",
   "metadata": {},
   "outputs": [
    {
     "data": {
      "text/html": [
       "<div>\n",
       "<style scoped>\n",
       "    .dataframe tbody tr th:only-of-type {\n",
       "        vertical-align: middle;\n",
       "    }\n",
       "\n",
       "    .dataframe tbody tr th {\n",
       "        vertical-align: top;\n",
       "    }\n",
       "\n",
       "    .dataframe thead th {\n",
       "        text-align: right;\n",
       "    }\n",
       "</style>\n",
       "<table border=\"1\" class=\"dataframe\">\n",
       "  <thead>\n",
       "    <tr style=\"text-align: right;\">\n",
       "      <th></th>\n",
       "      <th>Member_number</th>\n",
       "      <th>Date</th>\n",
       "      <th>itemDescription</th>\n",
       "    </tr>\n",
       "  </thead>\n",
       "  <tbody>\n",
       "    <tr>\n",
       "      <th>38760</th>\n",
       "      <td>4471</td>\n",
       "      <td>08-10-2014</td>\n",
       "      <td>sliced cheese</td>\n",
       "    </tr>\n",
       "    <tr>\n",
       "      <th>38761</th>\n",
       "      <td>2022</td>\n",
       "      <td>23-02-2014</td>\n",
       "      <td>candy</td>\n",
       "    </tr>\n",
       "    <tr>\n",
       "      <th>38762</th>\n",
       "      <td>1097</td>\n",
       "      <td>16-04-2014</td>\n",
       "      <td>cake bar</td>\n",
       "    </tr>\n",
       "    <tr>\n",
       "      <th>38763</th>\n",
       "      <td>1510</td>\n",
       "      <td>03-12-2014</td>\n",
       "      <td>fruit/vegetable juice</td>\n",
       "    </tr>\n",
       "    <tr>\n",
       "      <th>38764</th>\n",
       "      <td>1521</td>\n",
       "      <td>26-12-2014</td>\n",
       "      <td>cat food</td>\n",
       "    </tr>\n",
       "  </tbody>\n",
       "</table>\n",
       "</div>"
      ],
      "text/plain": [
       "       Member_number        Date        itemDescription\n",
       "38760           4471  08-10-2014          sliced cheese\n",
       "38761           2022  23-02-2014                  candy\n",
       "38762           1097  16-04-2014               cake bar\n",
       "38763           1510  03-12-2014  fruit/vegetable juice\n",
       "38764           1521  26-12-2014               cat food"
      ]
     },
     "execution_count": 27,
     "metadata": {},
     "output_type": "execute_result"
    }
   ],
   "source": [
    "df.tail()"
   ]
  },
  {
   "cell_type": "code",
   "execution_count": 47,
   "id": "72678fe7-eea0-4c54-90f2-3c76c9d48dad",
   "metadata": {},
   "outputs": [
    {
     "data": {
      "text/html": [
       "<div>\n",
       "<style scoped>\n",
       "    .dataframe tbody tr th:only-of-type {\n",
       "        vertical-align: middle;\n",
       "    }\n",
       "\n",
       "    .dataframe tbody tr th {\n",
       "        vertical-align: top;\n",
       "    }\n",
       "\n",
       "    .dataframe thead th {\n",
       "        text-align: right;\n",
       "    }\n",
       "</style>\n",
       "<table border=\"1\" class=\"dataframe\">\n",
       "  <thead>\n",
       "    <tr style=\"text-align: right;\">\n",
       "      <th></th>\n",
       "      <th>Member_number</th>\n",
       "      <th>Date</th>\n",
       "      <th>itemDescription</th>\n",
       "    </tr>\n",
       "  </thead>\n",
       "  <tbody>\n",
       "    <tr>\n",
       "      <th>0</th>\n",
       "      <td>1808</td>\n",
       "      <td>7/21/2015</td>\n",
       "      <td>tropical fruit</td>\n",
       "    </tr>\n",
       "    <tr>\n",
       "      <th>1</th>\n",
       "      <td>2552</td>\n",
       "      <td>1/5/2015</td>\n",
       "      <td>whole milk</td>\n",
       "    </tr>\n",
       "    <tr>\n",
       "      <th>2</th>\n",
       "      <td>2300</td>\n",
       "      <td>9/19/2015</td>\n",
       "      <td>pip fruit</td>\n",
       "    </tr>\n",
       "    <tr>\n",
       "      <th>3</th>\n",
       "      <td>1187</td>\n",
       "      <td>12/12/2015</td>\n",
       "      <td>other vegetables</td>\n",
       "    </tr>\n",
       "    <tr>\n",
       "      <th>4</th>\n",
       "      <td>3037</td>\n",
       "      <td>2/1/2015</td>\n",
       "      <td>whole milk</td>\n",
       "    </tr>\n",
       "  </tbody>\n",
       "</table>\n",
       "</div>"
      ],
      "text/plain": [
       "   Member_number        Date   itemDescription\n",
       "0           1808   7/21/2015    tropical fruit\n",
       "1           2552    1/5/2015        whole milk\n",
       "2           2300   9/19/2015         pip fruit\n",
       "3           1187  12/12/2015  other vegetables\n",
       "4           3037    2/1/2015        whole milk"
      ]
     },
     "execution_count": 47,
     "metadata": {},
     "output_type": "execute_result"
    }
   ],
   "source": [
    "df.head()"
   ]
  },
  {
   "cell_type": "code",
   "execution_count": 85,
   "id": "3788bac5-7d6c-496c-97e8-1ce721b68522",
   "metadata": {},
   "outputs": [
    {
     "name": "stdout",
     "output_type": "stream",
     "text": [
      "       Member_number       Date        itemDescription  Day   day_name  month  \\\n",
      "0               1808 2015-07-21         tropical fruit   21    Tuesday      7   \n",
      "1               2552 2015-01-05             whole milk    5     Monday      1   \n",
      "2               2300 2015-09-19              pip fruit   19   Saturday      9   \n",
      "3               1187 2015-12-12       other vegetables   12   Saturday     12   \n",
      "4               3037 2015-02-01             whole milk    1     Sunday      2   \n",
      "...              ...        ...                    ...  ...        ...    ...   \n",
      "38760           4471 2014-10-08          sliced cheese    8  Wednesday     10   \n",
      "38761           2022 2014-02-23                  candy   23     Sunday      2   \n",
      "38762           1097 2014-04-16               cake bar   16  Wednesday      4   \n",
      "38763           1510 2014-12-03  fruit/vegetable juice    3  Wednesday     12   \n",
      "38764           1521 2014-12-26               cat food   26     Friday     12   \n",
      "\n",
      "       season  \n",
      "0      Summer  \n",
      "1      Winter  \n",
      "2      Summer  \n",
      "3      Autumn  \n",
      "4      Winter  \n",
      "...       ...  \n",
      "38760  Autumn  \n",
      "38761  Winter  \n",
      "38762  Spring  \n",
      "38763  Autumn  \n",
      "38764  Winter  \n",
      "\n",
      "[38765 rows x 7 columns]\n"
     ]
    }
   ],
   "source": [
    "print(df)"
   ]
  },
  {
   "cell_type": "code",
   "execution_count": 87,
   "id": "3bcfc53f-b612-439b-9c32-c011ee987ff2",
   "metadata": {},
   "outputs": [
    {
     "data": {
      "text/html": [
       "<div>\n",
       "<style scoped>\n",
       "    .dataframe tbody tr th:only-of-type {\n",
       "        vertical-align: middle;\n",
       "    }\n",
       "\n",
       "    .dataframe tbody tr th {\n",
       "        vertical-align: top;\n",
       "    }\n",
       "\n",
       "    .dataframe thead th {\n",
       "        text-align: right;\n",
       "    }\n",
       "</style>\n",
       "<table border=\"1\" class=\"dataframe\">\n",
       "  <thead>\n",
       "    <tr style=\"text-align: right;\">\n",
       "      <th></th>\n",
       "      <th>Member_number</th>\n",
       "      <th>Date</th>\n",
       "      <th>itemDescription</th>\n",
       "      <th>Day</th>\n",
       "      <th>day_name</th>\n",
       "      <th>month</th>\n",
       "      <th>season</th>\n",
       "    </tr>\n",
       "  </thead>\n",
       "  <tbody>\n",
       "    <tr>\n",
       "      <th>0</th>\n",
       "      <td>1808</td>\n",
       "      <td>2015-07-21</td>\n",
       "      <td>tropical fruit</td>\n",
       "      <td>21</td>\n",
       "      <td>Tuesday</td>\n",
       "      <td>7</td>\n",
       "      <td>Summer</td>\n",
       "    </tr>\n",
       "    <tr>\n",
       "      <th>1</th>\n",
       "      <td>2552</td>\n",
       "      <td>2015-01-05</td>\n",
       "      <td>whole milk</td>\n",
       "      <td>5</td>\n",
       "      <td>Monday</td>\n",
       "      <td>1</td>\n",
       "      <td>Winter</td>\n",
       "    </tr>\n",
       "    <tr>\n",
       "      <th>2</th>\n",
       "      <td>2300</td>\n",
       "      <td>2015-09-19</td>\n",
       "      <td>pip fruit</td>\n",
       "      <td>19</td>\n",
       "      <td>Saturday</td>\n",
       "      <td>9</td>\n",
       "      <td>Summer</td>\n",
       "    </tr>\n",
       "    <tr>\n",
       "      <th>3</th>\n",
       "      <td>1187</td>\n",
       "      <td>2015-12-12</td>\n",
       "      <td>other vegetables</td>\n",
       "      <td>12</td>\n",
       "      <td>Saturday</td>\n",
       "      <td>12</td>\n",
       "      <td>Autumn</td>\n",
       "    </tr>\n",
       "    <tr>\n",
       "      <th>4</th>\n",
       "      <td>3037</td>\n",
       "      <td>2015-02-01</td>\n",
       "      <td>whole milk</td>\n",
       "      <td>1</td>\n",
       "      <td>Sunday</td>\n",
       "      <td>2</td>\n",
       "      <td>Winter</td>\n",
       "    </tr>\n",
       "  </tbody>\n",
       "</table>\n",
       "</div>"
      ],
      "text/plain": [
       "   Member_number       Date   itemDescription  Day  day_name  month  season\n",
       "0           1808 2015-07-21    tropical fruit   21   Tuesday      7  Summer\n",
       "1           2552 2015-01-05        whole milk    5    Monday      1  Winter\n",
       "2           2300 2015-09-19         pip fruit   19  Saturday      9  Summer\n",
       "3           1187 2015-12-12  other vegetables   12  Saturday     12  Autumn\n",
       "4           3037 2015-02-01        whole milk    1    Sunday      2  Winter"
      ]
     },
     "execution_count": 87,
     "metadata": {},
     "output_type": "execute_result"
    }
   ],
   "source": [
    "df.head()"
   ]
  },
  {
   "cell_type": "code",
   "execution_count": 91,
   "id": "edcac76c-0191-41f1-9122-24b21a3f9b13",
   "metadata": {},
   "outputs": [
    {
     "name": "stdout",
     "output_type": "stream",
     "text": [
      "Data written successfully to the new database and table.\n"
     ]
    }
   ],
   "source": [
    "from sqlalchemy import create_engine\n",
    "import pandas as pd\n",
    "\n",
    "# Connect to SQL Server using the new database\n",
    "engine = create_engine(r'mssql+pyodbc://@DILEEP\\SQLEXPRESS/grocery data?driver=ODBC+Driver+17+for+SQL+Server&Trusted_Connection=yes')\n",
    "\n",
    "# Assuming df is your pandas DataFrame\n",
    "df.to_sql('grocery data', con=engine, index=False)\n",
    "\n",
    "print(\"Data written successfully to the new database and table.\")"
   ]
  },
  {
   "cell_type": "code",
   "execution_count": 105,
   "id": "bb6032d4-9fc6-403a-ac80-0fcdafa132ee",
   "metadata": {},
   "outputs": [
    {
     "name": "stdout",
     "output_type": "stream",
     "text": [
      "       Member_number       Date        itemDescription  Day   day_name  month  \\\n",
      "0               1808 2015-07-21         tropical fruit   21    Tuesday      7   \n",
      "1               2552 2015-01-05             whole milk    5     Monday      1   \n",
      "2               2300 2015-09-19              pip fruit   19   Saturday      9   \n",
      "3               1187 2015-12-12       other vegetables   12   Saturday     12   \n",
      "4               3037 2015-02-01             whole milk    1     Sunday      2   \n",
      "...              ...        ...                    ...  ...        ...    ...   \n",
      "38760           4471 2014-10-08          sliced cheese    8  Wednesday     10   \n",
      "38761           2022 2014-02-23                  candy   23     Sunday      2   \n",
      "38762           1097 2014-04-16               cake bar   16  Wednesday      4   \n",
      "38763           1510 2014-12-03  fruit/vegetable juice    3  Wednesday     12   \n",
      "38764           1521 2014-12-26               cat food   26     Friday     12   \n",
      "\n",
      "       season  Year  \n",
      "0      Summer    21  \n",
      "1      Winter     5  \n",
      "2      Summer    19  \n",
      "3      Autumn    12  \n",
      "4      Winter     1  \n",
      "...       ...   ...  \n",
      "38760  Autumn     8  \n",
      "38761  Winter    23  \n",
      "38762  Spring    16  \n",
      "38763  Autumn     3  \n",
      "38764  Winter    26  \n",
      "\n",
      "[38765 rows x 8 columns]\n"
     ]
    }
   ],
   "source": [
    "print(df)"
   ]
  },
  {
   "cell_type": "code",
   "execution_count": 107,
   "id": "a5dbc676-cf5f-4f8d-b16a-dca1294b7681",
   "metadata": {},
   "outputs": [
    {
     "name": "stdout",
     "output_type": "stream",
     "text": [
      "Data written successfully to the new database and table.\n"
     ]
    }
   ],
   "source": [
    "from sqlalchemy import create_engine\n",
    "import pandas as pd\n",
    "\n",
    "# Connect to SQL Server using the new database\n",
    "engine = create_engine(r'mssql+pyodbc://@DILEEP\\SQLEXPRESS/grocery data?driver=ODBC+Driver+17+for+SQL+Server&Trusted_Connection=yes')\n",
    "\n",
    "# Assuming df is your pandas DataFrame\n",
    "df.to_sql('grocery data', con=engine, index=False)\n",
    "\n",
    "print(\"Data written successfully to the new database and table.\")"
   ]
  },
  {
   "cell_type": "code",
   "execution_count": null,
   "id": "6f475a90-7466-4e3d-a546-33e3691589b8",
   "metadata": {},
   "outputs": [],
   "source": []
  }
 ],
 "metadata": {
  "kernelspec": {
   "display_name": "Python 3 (ipykernel)",
   "language": "python",
   "name": "python3"
  },
  "language_info": {
   "codemirror_mode": {
    "name": "ipython",
    "version": 3
   },
   "file_extension": ".py",
   "mimetype": "text/x-python",
   "name": "python",
   "nbconvert_exporter": "python",
   "pygments_lexer": "ipython3",
   "version": "3.12.7"
  }
 },
 "nbformat": 4,
 "nbformat_minor": 5
}
